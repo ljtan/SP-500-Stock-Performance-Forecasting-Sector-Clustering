{
 "cells": [
  {
   "cell_type": "markdown",
   "metadata": {
    "id": "Bof25DGebZuA"
   },
   "source": [
    "### Using multiple classifiers to find the top/bottom 100 stocks"
   ]
  },
  {
   "cell_type": "code",
   "execution_count": 1,
   "metadata": {
    "executionInfo": {
     "elapsed": 6,
     "status": "ok",
     "timestamp": 1643409317283,
     "user": {
      "displayName": "Jason Tan",
      "photoUrl": "https://lh3.googleusercontent.com/a-/AOh14GiI78rGWPpUz8y61T66cRNWU4RElK_H5aEFGW_rIg=s64",
      "userId": "05999151273014782026"
     },
     "user_tz": 300
    },
    "id": "wbjM1h6sP2LY"
   },
   "outputs": [],
   "source": [
    "import pandas as pd\n",
    "import numpy as np"
   ]
  },
  {
   "cell_type": "markdown",
   "metadata": {
    "id": "82FPhy3PQGQ_"
   },
   "source": [
    "# Load the Independent / X-Variable features"
   ]
  },
  {
   "cell_type": "code",
   "execution_count": 2,
   "metadata": {
    "colab": {
     "base_uri": "https://localhost:8080/",
     "height": 653
    },
    "executionInfo": {
     "elapsed": 564,
     "status": "ok",
     "timestamp": 1643409317843,
     "user": {
      "displayName": "Jason Tan",
      "photoUrl": "https://lh3.googleusercontent.com/a-/AOh14GiI78rGWPpUz8y61T66cRNWU4RElK_H5aEFGW_rIg=s64",
      "userId": "05999151273014782026"
     },
     "user_tz": 300
    },
    "id": "2dOmLPxeP67o",
    "outputId": "8f6e80de-1497-40e4-d5c0-a7001abca836"
   },
   "outputs": [
    {
     "data": {
      "text/html": [
       "<div>\n",
       "<style scoped>\n",
       "    .dataframe tbody tr th:only-of-type {\n",
       "        vertical-align: middle;\n",
       "    }\n",
       "\n",
       "    .dataframe tbody tr th {\n",
       "        vertical-align: top;\n",
       "    }\n",
       "\n",
       "    .dataframe thead th {\n",
       "        text-align: right;\n",
       "    }\n",
       "</style>\n",
       "<table border=\"1\" class=\"dataframe\">\n",
       "  <thead>\n",
       "    <tr style=\"text-align: right;\">\n",
       "      <th></th>\n",
       "      <th>Date</th>\n",
       "      <th>Ticker</th>\n",
       "      <th>Name</th>\n",
       "      <th>Sector</th>\n",
       "      <th>Price_Returns_12m</th>\n",
       "      <th>Price_Returns_6m</th>\n",
       "      <th>Price_Returns_3m</th>\n",
       "      <th>Price_Returns_1m</th>\n",
       "      <th>Moving_Avg_Returns_12m</th>\n",
       "      <th>Moving_Avg_Returns_6m</th>\n",
       "      <th>...</th>\n",
       "      <th>PB</th>\n",
       "      <th>Trail_EV_EBITDA</th>\n",
       "      <th>Trail_PE</th>\n",
       "      <th>Trail3yrAvg_EPSgro</th>\n",
       "      <th>Trail3yrAvg_DPSgro</th>\n",
       "      <th>Volatility</th>\n",
       "      <th>Debt_to_MktCap</th>\n",
       "      <th>NetDebt_EBITDA</th>\n",
       "      <th>Trail1yr_EPSgro</th>\n",
       "      <th>Trail1yr_DPSgro</th>\n",
       "    </tr>\n",
       "  </thead>\n",
       "  <tbody>\n",
       "    <tr>\n",
       "      <th>0</th>\n",
       "      <td>2001-12-31</td>\n",
       "      <td>DVN</td>\n",
       "      <td>DEVON ENERGY CO</td>\n",
       "      <td>Energy</td>\n",
       "      <td>0.14293</td>\n",
       "      <td>0.36564</td>\n",
       "      <td>0.31219</td>\n",
       "      <td>0.59225</td>\n",
       "      <td>0.41990</td>\n",
       "      <td>0.53320</td>\n",
       "      <td>...</td>\n",
       "      <td>0.01075</td>\n",
       "      <td>0.00267</td>\n",
       "      <td>0.00631</td>\n",
       "      <td>0.41488</td>\n",
       "      <td>0.27215</td>\n",
       "      <td>0.26616</td>\n",
       "      <td>0.08911</td>\n",
       "      <td>0.07375</td>\n",
       "      <td>0.03595</td>\n",
       "      <td>0.25038</td>\n",
       "    </tr>\n",
       "    <tr>\n",
       "      <th>1</th>\n",
       "      <td>2001-12-31</td>\n",
       "      <td>HSY</td>\n",
       "      <td>HERSHEY CO/THE</td>\n",
       "      <td>Consumer Staples</td>\n",
       "      <td>0.25097</td>\n",
       "      <td>0.56471</td>\n",
       "      <td>0.28428</td>\n",
       "      <td>0.48704</td>\n",
       "      <td>0.57681</td>\n",
       "      <td>0.66079</td>\n",
       "      <td>...</td>\n",
       "      <td>0.06961</td>\n",
       "      <td>0.00838</td>\n",
       "      <td>0.02737</td>\n",
       "      <td>0.33652</td>\n",
       "      <td>0.31837</td>\n",
       "      <td>0.07804</td>\n",
       "      <td>0.00635</td>\n",
       "      <td>0.07147</td>\n",
       "      <td>0.03728</td>\n",
       "      <td>0.27004</td>\n",
       "    </tr>\n",
       "    <tr>\n",
       "      <th>2</th>\n",
       "      <td>2001-12-31</td>\n",
       "      <td>SPGI</td>\n",
       "      <td>S&amp;P GLOBAL INC</td>\n",
       "      <td>Financials</td>\n",
       "      <td>0.24743</td>\n",
       "      <td>0.46879</td>\n",
       "      <td>0.28818</td>\n",
       "      <td>0.53895</td>\n",
       "      <td>0.57295</td>\n",
       "      <td>0.59866</td>\n",
       "      <td>...</td>\n",
       "      <td>0.05470</td>\n",
       "      <td>0.00830</td>\n",
       "      <td>0.02794</td>\n",
       "      <td>0.34179</td>\n",
       "      <td>0.31612</td>\n",
       "      <td>0.15425</td>\n",
       "      <td>0.00590</td>\n",
       "      <td>0.07152</td>\n",
       "      <td>0.04084</td>\n",
       "      <td>0.26100</td>\n",
       "    </tr>\n",
       "    <tr>\n",
       "      <th>3</th>\n",
       "      <td>2001-12-31</td>\n",
       "      <td>1255173D</td>\n",
       "      <td>WACHOVIA CORP</td>\n",
       "      <td>Financials</td>\n",
       "      <td>0.27336</td>\n",
       "      <td>0.45867</td>\n",
       "      <td>0.27743</td>\n",
       "      <td>0.46289</td>\n",
       "      <td>0.61219</td>\n",
       "      <td>0.59037</td>\n",
       "      <td>...</td>\n",
       "      <td>0.01080</td>\n",
       "      <td>0.00772</td>\n",
       "      <td>0.01518</td>\n",
       "      <td>0.33330</td>\n",
       "      <td>0.18577</td>\n",
       "      <td>0.17720</td>\n",
       "      <td>0.13291</td>\n",
       "      <td>0.07420</td>\n",
       "      <td>0.04167</td>\n",
       "      <td>0.12517</td>\n",
       "    </tr>\n",
       "    <tr>\n",
       "      <th>4</th>\n",
       "      <td>2001-12-31</td>\n",
       "      <td>NEM</td>\n",
       "      <td>NEWMONT CORP</td>\n",
       "      <td>Materials</td>\n",
       "      <td>0.26484</td>\n",
       "      <td>0.52295</td>\n",
       "      <td>0.20880</td>\n",
       "      <td>0.41651</td>\n",
       "      <td>0.60565</td>\n",
       "      <td>0.64239</td>\n",
       "      <td>...</td>\n",
       "      <td>0.02000</td>\n",
       "      <td>0.00697</td>\n",
       "      <td>0.23388</td>\n",
       "      <td>0.49926</td>\n",
       "      <td>0.27215</td>\n",
       "      <td>0.27910</td>\n",
       "      <td>0.02509</td>\n",
       "      <td>0.07331</td>\n",
       "      <td>0.02519</td>\n",
       "      <td>0.25033</td>\n",
       "    </tr>\n",
       "    <tr>\n",
       "      <th>...</th>\n",
       "      <td>...</td>\n",
       "      <td>...</td>\n",
       "      <td>...</td>\n",
       "      <td>...</td>\n",
       "      <td>...</td>\n",
       "      <td>...</td>\n",
       "      <td>...</td>\n",
       "      <td>...</td>\n",
       "      <td>...</td>\n",
       "      <td>...</td>\n",
       "      <td>...</td>\n",
       "      <td>...</td>\n",
       "      <td>...</td>\n",
       "      <td>...</td>\n",
       "      <td>...</td>\n",
       "      <td>...</td>\n",
       "      <td>...</td>\n",
       "      <td>...</td>\n",
       "      <td>...</td>\n",
       "      <td>...</td>\n",
       "      <td>...</td>\n",
       "    </tr>\n",
       "    <tr>\n",
       "      <th>113313</th>\n",
       "      <td>2021-06-30</td>\n",
       "      <td>DGX</td>\n",
       "      <td>QUEST DIAGNOSTIC</td>\n",
       "      <td>Health Care</td>\n",
       "      <td>0.11757</td>\n",
       "      <td>0.27166</td>\n",
       "      <td>0.41280</td>\n",
       "      <td>0.34777</td>\n",
       "      <td>0.24272</td>\n",
       "      <td>0.33557</td>\n",
       "      <td>...</td>\n",
       "      <td>0.00654</td>\n",
       "      <td>0.03983</td>\n",
       "      <td>0.00050</td>\n",
       "      <td>0.03751</td>\n",
       "      <td>0.19068</td>\n",
       "      <td>0.16435</td>\n",
       "      <td>0.04361</td>\n",
       "      <td>0.60228</td>\n",
       "      <td>0.25181</td>\n",
       "      <td>0.01069</td>\n",
       "    </tr>\n",
       "    <tr>\n",
       "      <th>113314</th>\n",
       "      <td>2021-06-30</td>\n",
       "      <td>ATVI</td>\n",
       "      <td>ACTIVISION BLIZZ</td>\n",
       "      <td>Communication Services</td>\n",
       "      <td>0.13778</td>\n",
       "      <td>0.20577</td>\n",
       "      <td>0.41024</td>\n",
       "      <td>0.30115</td>\n",
       "      <td>0.26987</td>\n",
       "      <td>0.25163</td>\n",
       "      <td>...</td>\n",
       "      <td>0.01378</td>\n",
       "      <td>0.13161</td>\n",
       "      <td>0.00561</td>\n",
       "      <td>0.03104</td>\n",
       "      <td>0.19946</td>\n",
       "      <td>0.24063</td>\n",
       "      <td>0.00912</td>\n",
       "      <td>0.55509</td>\n",
       "      <td>0.21642</td>\n",
       "      <td>0.01146</td>\n",
       "    </tr>\n",
       "    <tr>\n",
       "      <th>113315</th>\n",
       "      <td>2021-06-30</td>\n",
       "      <td>ROK</td>\n",
       "      <td>ROCKWELL AUTOMAT</td>\n",
       "      <td>Industrials</td>\n",
       "      <td>0.16258</td>\n",
       "      <td>0.29664</td>\n",
       "      <td>0.47408</td>\n",
       "      <td>0.53138</td>\n",
       "      <td>0.30255</td>\n",
       "      <td>0.35415</td>\n",
       "      <td>...</td>\n",
       "      <td>0.05697</td>\n",
       "      <td>0.16872</td>\n",
       "      <td>0.00639</td>\n",
       "      <td>0.03110</td>\n",
       "      <td>0.19194</td>\n",
       "      <td>0.17081</td>\n",
       "      <td>0.01341</td>\n",
       "      <td>0.60577</td>\n",
       "      <td>0.21064</td>\n",
       "      <td>0.01049</td>\n",
       "    </tr>\n",
       "    <tr>\n",
       "      <th>113316</th>\n",
       "      <td>2021-06-30</td>\n",
       "      <td>DXC</td>\n",
       "      <td>DXC TECHNOLOGY C</td>\n",
       "      <td>Information Technology</td>\n",
       "      <td>0.40326</td>\n",
       "      <td>0.57815</td>\n",
       "      <td>0.68071</td>\n",
       "      <td>0.40271</td>\n",
       "      <td>0.59372</td>\n",
       "      <td>0.64506</td>\n",
       "      <td>...</td>\n",
       "      <td>0.00464</td>\n",
       "      <td>0.04439</td>\n",
       "      <td>0.00820</td>\n",
       "      <td>0.02159</td>\n",
       "      <td>0.17359</td>\n",
       "      <td>0.55839</td>\n",
       "      <td>0.13173</td>\n",
       "      <td>0.62643</td>\n",
       "      <td>0.19701</td>\n",
       "      <td>0.00000</td>\n",
       "    </tr>\n",
       "    <tr>\n",
       "      <th>113317</th>\n",
       "      <td>2021-06-30</td>\n",
       "      <td>LYB</td>\n",
       "      <td>LYONDELLBASELL-A</td>\n",
       "      <td>Materials</td>\n",
       "      <td>0.22889</td>\n",
       "      <td>0.29227</td>\n",
       "      <td>0.36868</td>\n",
       "      <td>0.16931</td>\n",
       "      <td>0.41035</td>\n",
       "      <td>0.36771</td>\n",
       "      <td>...</td>\n",
       "      <td>0.01080</td>\n",
       "      <td>0.08482</td>\n",
       "      <td>0.00157</td>\n",
       "      <td>0.03318</td>\n",
       "      <td>0.18277</td>\n",
       "      <td>0.42588</td>\n",
       "      <td>0.09066</td>\n",
       "      <td>0.65074</td>\n",
       "      <td>0.21068</td>\n",
       "      <td>0.01018</td>\n",
       "    </tr>\n",
       "  </tbody>\n",
       "</table>\n",
       "<p>113318 rows × 22 columns</p>\n",
       "</div>"
      ],
      "text/plain": [
       "             Date    Ticker              Name                  Sector  \\\n",
       "0      2001-12-31       DVN   DEVON ENERGY CO                  Energy   \n",
       "1      2001-12-31       HSY    HERSHEY CO/THE        Consumer Staples   \n",
       "2      2001-12-31      SPGI    S&P GLOBAL INC              Financials   \n",
       "3      2001-12-31  1255173D     WACHOVIA CORP              Financials   \n",
       "4      2001-12-31       NEM      NEWMONT CORP               Materials   \n",
       "...           ...       ...               ...                     ...   \n",
       "113313 2021-06-30       DGX  QUEST DIAGNOSTIC             Health Care   \n",
       "113314 2021-06-30      ATVI  ACTIVISION BLIZZ  Communication Services   \n",
       "113315 2021-06-30       ROK  ROCKWELL AUTOMAT             Industrials   \n",
       "113316 2021-06-30       DXC  DXC TECHNOLOGY C  Information Technology   \n",
       "113317 2021-06-30       LYB  LYONDELLBASELL-A               Materials   \n",
       "\n",
       "        Price_Returns_12m  Price_Returns_6m  Price_Returns_3m  \\\n",
       "0                 0.14293           0.36564           0.31219   \n",
       "1                 0.25097           0.56471           0.28428   \n",
       "2                 0.24743           0.46879           0.28818   \n",
       "3                 0.27336           0.45867           0.27743   \n",
       "4                 0.26484           0.52295           0.20880   \n",
       "...                   ...               ...               ...   \n",
       "113313            0.11757           0.27166           0.41280   \n",
       "113314            0.13778           0.20577           0.41024   \n",
       "113315            0.16258           0.29664           0.47408   \n",
       "113316            0.40326           0.57815           0.68071   \n",
       "113317            0.22889           0.29227           0.36868   \n",
       "\n",
       "        Price_Returns_1m  Moving_Avg_Returns_12m  Moving_Avg_Returns_6m  ...  \\\n",
       "0                0.59225                 0.41990                0.53320  ...   \n",
       "1                0.48704                 0.57681                0.66079  ...   \n",
       "2                0.53895                 0.57295                0.59866  ...   \n",
       "3                0.46289                 0.61219                0.59037  ...   \n",
       "4                0.41651                 0.60565                0.64239  ...   \n",
       "...                  ...                     ...                    ...  ...   \n",
       "113313           0.34777                 0.24272                0.33557  ...   \n",
       "113314           0.30115                 0.26987                0.25163  ...   \n",
       "113315           0.53138                 0.30255                0.35415  ...   \n",
       "113316           0.40271                 0.59372                0.64506  ...   \n",
       "113317           0.16931                 0.41035                0.36771  ...   \n",
       "\n",
       "             PB  Trail_EV_EBITDA  Trail_PE  Trail3yrAvg_EPSgro  \\\n",
       "0       0.01075          0.00267   0.00631             0.41488   \n",
       "1       0.06961          0.00838   0.02737             0.33652   \n",
       "2       0.05470          0.00830   0.02794             0.34179   \n",
       "3       0.01080          0.00772   0.01518             0.33330   \n",
       "4       0.02000          0.00697   0.23388             0.49926   \n",
       "...         ...              ...       ...                 ...   \n",
       "113313  0.00654          0.03983   0.00050             0.03751   \n",
       "113314  0.01378          0.13161   0.00561             0.03104   \n",
       "113315  0.05697          0.16872   0.00639             0.03110   \n",
       "113316  0.00464          0.04439   0.00820             0.02159   \n",
       "113317  0.01080          0.08482   0.00157             0.03318   \n",
       "\n",
       "        Trail3yrAvg_DPSgro  Volatility  Debt_to_MktCap  NetDebt_EBITDA  \\\n",
       "0                  0.27215     0.26616         0.08911         0.07375   \n",
       "1                  0.31837     0.07804         0.00635         0.07147   \n",
       "2                  0.31612     0.15425         0.00590         0.07152   \n",
       "3                  0.18577     0.17720         0.13291         0.07420   \n",
       "4                  0.27215     0.27910         0.02509         0.07331   \n",
       "...                    ...         ...             ...             ...   \n",
       "113313             0.19068     0.16435         0.04361         0.60228   \n",
       "113314             0.19946     0.24063         0.00912         0.55509   \n",
       "113315             0.19194     0.17081         0.01341         0.60577   \n",
       "113316             0.17359     0.55839         0.13173         0.62643   \n",
       "113317             0.18277     0.42588         0.09066         0.65074   \n",
       "\n",
       "        Trail1yr_EPSgro  Trail1yr_DPSgro  \n",
       "0               0.03595          0.25038  \n",
       "1               0.03728          0.27004  \n",
       "2               0.04084          0.26100  \n",
       "3               0.04167          0.12517  \n",
       "4               0.02519          0.25033  \n",
       "...                 ...              ...  \n",
       "113313          0.25181          0.01069  \n",
       "113314          0.21642          0.01146  \n",
       "113315          0.21064          0.01049  \n",
       "113316          0.19701          0.00000  \n",
       "113317          0.21068          0.01018  \n",
       "\n",
       "[113318 rows x 22 columns]"
      ]
     },
     "execution_count": 2,
     "metadata": {},
     "output_type": "execute_result"
    }
   ],
   "source": [
    "csv_data = pd.read_csv('SP500_Index_Normalized_Features.csv') #read the cleaned and normalized csv\n",
    "\n",
    "csv_data['Date'] = pd.to_datetime(csv_data['Date'], format=\"%Y-%m-%d\") #Date column to datetime, just to make sure (this is just a precaution, dataframe should already be in this format)\n",
    "csv_data = csv_data.sort_values(by='Date', ascending=True).reset_index(drop=True) #dates sorted to better visualize output (this is just a precaution, dataframe should already be in this format)\n",
    "\n",
    "csv_data # look at the data "
   ]
  },
  {
   "cell_type": "code",
   "execution_count": 3,
   "metadata": {
    "colab": {
     "base_uri": "https://localhost:8080/"
    },
    "executionInfo": {
     "elapsed": 16,
     "status": "ok",
     "timestamp": 1643409317844,
     "user": {
      "displayName": "Jason Tan",
      "photoUrl": "https://lh3.googleusercontent.com/a-/AOh14GiI78rGWPpUz8y61T66cRNWU4RElK_H5aEFGW_rIg=s64",
      "userId": "05999151273014782026"
     },
     "user_tz": 300
    },
    "id": "AbSkUEByDE8j",
    "outputId": "4da640b6-2ff3-4f30-a93e-4b4624b16a28"
   },
   "outputs": [
    {
     "data": {
      "text/plain": [
       "['Date',\n",
       " 'Ticker',\n",
       " 'Name',\n",
       " 'Sector',\n",
       " 'Price_Returns_12m',\n",
       " 'Price_Returns_6m',\n",
       " 'Price_Returns_3m',\n",
       " 'Price_Returns_1m',\n",
       " 'Moving_Avg_Returns_12m',\n",
       " 'Moving_Avg_Returns_6m',\n",
       " 'Moving_Avg_Returns_3m',\n",
       " 'Trail_DivYld',\n",
       " 'PB',\n",
       " 'Trail_EV_EBITDA',\n",
       " 'Trail_PE',\n",
       " 'Trail3yrAvg_EPSgro',\n",
       " 'Trail3yrAvg_DPSgro',\n",
       " 'Volatility',\n",
       " 'Debt_to_MktCap',\n",
       " 'NetDebt_EBITDA',\n",
       " 'Trail1yr_EPSgro',\n",
       " 'Trail1yr_DPSgro']"
      ]
     },
     "execution_count": 3,
     "metadata": {},
     "output_type": "execute_result"
    }
   ],
   "source": [
    "csv_data.columns.to_list()"
   ]
  },
  {
   "cell_type": "markdown",
   "metadata": {
    "id": "RYsKzFONQaqg"
   },
   "source": [
    "# Load the Dependent / y-variable "
   ]
  },
  {
   "cell_type": "code",
   "execution_count": 4,
   "metadata": {
    "colab": {
     "base_uri": "https://localhost:8080/",
     "height": 653
    },
    "executionInfo": {
     "elapsed": 798,
     "status": "ok",
     "timestamp": 1643409318636,
     "user": {
      "displayName": "Jason Tan",
      "photoUrl": "https://lh3.googleusercontent.com/a-/AOh14GiI78rGWPpUz8y61T66cRNWU4RElK_H5aEFGW_rIg=s64",
      "userId": "05999151273014782026"
     },
     "user_tz": 300
    },
    "id": "WYqfXAAOQhkX",
    "outputId": "fd8c2a99-dd9c-4890-95a3-0aa1c80714f9",
    "scrolled": false
   },
   "outputs": [
    {
     "data": {
      "text/html": [
       "<div>\n",
       "<style scoped>\n",
       "    .dataframe tbody tr th:only-of-type {\n",
       "        vertical-align: middle;\n",
       "    }\n",
       "\n",
       "    .dataframe tbody tr th {\n",
       "        vertical-align: top;\n",
       "    }\n",
       "\n",
       "    .dataframe thead th {\n",
       "        text-align: right;\n",
       "    }\n",
       "</style>\n",
       "<table border=\"1\" class=\"dataframe\">\n",
       "  <thead>\n",
       "    <tr style=\"text-align: right;\">\n",
       "      <th></th>\n",
       "      <th>Date</th>\n",
       "      <th>Ticker</th>\n",
       "      <th>Name</th>\n",
       "      <th>Sector</th>\n",
       "      <th>PRIOR_Returns_1m</th>\n",
       "      <th>FUTURE_Returns_1m</th>\n",
       "      <th>FUTURE_Returns_zscore_overall</th>\n",
       "      <th>FUTURE_Returns_zscore_bySector</th>\n",
       "      <th>FUTURE_Returns_MinMax_overall</th>\n",
       "      <th>FUTURE_Returns_MinMax_bySector</th>\n",
       "      <th>FUTURE_Returns_quintile_overall</th>\n",
       "      <th>FUTURE_Returns_quintile_bySector</th>\n",
       "      <th>FUTURE_Returns_top_bot_100_overall</th>\n",
       "      <th>FUTURE_Returns_top_bot_100_bySector</th>\n",
       "      <th>FUTURE_Returns_decile_overall</th>\n",
       "      <th>FUTURE_Returns_decile_bySector</th>\n",
       "      <th>FUTURE_Returns_top_bot_50_overall</th>\n",
       "      <th>FUTURE_Returns_top_bot_50_bySector</th>\n",
       "    </tr>\n",
       "  </thead>\n",
       "  <tbody>\n",
       "    <tr>\n",
       "      <th>0</th>\n",
       "      <td>2001-01-31</td>\n",
       "      <td>ROH</td>\n",
       "      <td>ROHM AND HAAS CO</td>\n",
       "      <td>Materials</td>\n",
       "      <td>-0.011360</td>\n",
       "      <td>0.220588</td>\n",
       "      <td>1.106160</td>\n",
       "      <td>0.948310</td>\n",
       "      <td>0.532108</td>\n",
       "      <td>0.664444</td>\n",
       "      <td>4.0</td>\n",
       "      <td>4.0</td>\n",
       "      <td>4</td>\n",
       "      <td>4.0</td>\n",
       "      <td>8.0</td>\n",
       "      <td>8.0</td>\n",
       "      <td>5</td>\n",
       "      <td>5.0</td>\n",
       "    </tr>\n",
       "    <tr>\n",
       "      <th>1</th>\n",
       "      <td>2001-01-31</td>\n",
       "      <td>SBUX</td>\n",
       "      <td>STARBUCKS CORP</td>\n",
       "      <td>Consumer Discretionary</td>\n",
       "      <td>0.128531</td>\n",
       "      <td>-0.028807</td>\n",
       "      <td>-0.693748</td>\n",
       "      <td>-0.802539</td>\n",
       "      <td>0.342119</td>\n",
       "      <td>0.324411</td>\n",
       "      <td>1.0</td>\n",
       "      <td>1.0</td>\n",
       "      <td>2</td>\n",
       "      <td>2.0</td>\n",
       "      <td>2.0</td>\n",
       "      <td>2.0</td>\n",
       "      <td>5</td>\n",
       "      <td>5.0</td>\n",
       "    </tr>\n",
       "    <tr>\n",
       "      <th>2</th>\n",
       "      <td>2001-01-31</td>\n",
       "      <td>SPLS</td>\n",
       "      <td>STAPLES INC</td>\n",
       "      <td>Consumer Discretionary</td>\n",
       "      <td>0.402116</td>\n",
       "      <td>-0.015625</td>\n",
       "      <td>-0.598615</td>\n",
       "      <td>-0.704078</td>\n",
       "      <td>0.352161</td>\n",
       "      <td>0.345999</td>\n",
       "      <td>1.0</td>\n",
       "      <td>1.0</td>\n",
       "      <td>2</td>\n",
       "      <td>2.0</td>\n",
       "      <td>2.0</td>\n",
       "      <td>2.0</td>\n",
       "      <td>5</td>\n",
       "      <td>5.0</td>\n",
       "    </tr>\n",
       "    <tr>\n",
       "      <th>3</th>\n",
       "      <td>2001-01-31</td>\n",
       "      <td>CMCSK</td>\n",
       "      <td>COMCAST CORP-SPL</td>\n",
       "      <td>Communication Services</td>\n",
       "      <td>0.025449</td>\n",
       "      <td>0.086179</td>\n",
       "      <td>0.136114</td>\n",
       "      <td>0.909245</td>\n",
       "      <td>0.429715</td>\n",
       "      <td>0.776769</td>\n",
       "      <td>2.0</td>\n",
       "      <td>3.0</td>\n",
       "      <td>2</td>\n",
       "      <td>2.0</td>\n",
       "      <td>5.0</td>\n",
       "      <td>7.0</td>\n",
       "      <td>5</td>\n",
       "      <td>5.0</td>\n",
       "    </tr>\n",
       "    <tr>\n",
       "      <th>4</th>\n",
       "      <td>2001-01-31</td>\n",
       "      <td>AAMRQ</td>\n",
       "      <td>AMR CORP</td>\n",
       "      <td>Industrials</td>\n",
       "      <td>-0.002488</td>\n",
       "      <td>0.171963</td>\n",
       "      <td>0.755224</td>\n",
       "      <td>0.835152</td>\n",
       "      <td>0.495065</td>\n",
       "      <td>0.594089</td>\n",
       "      <td>3.0</td>\n",
       "      <td>4.0</td>\n",
       "      <td>2</td>\n",
       "      <td>4.0</td>\n",
       "      <td>7.0</td>\n",
       "      <td>8.0</td>\n",
       "      <td>5</td>\n",
       "      <td>5.0</td>\n",
       "    </tr>\n",
       "    <tr>\n",
       "      <th>...</th>\n",
       "      <td>...</td>\n",
       "      <td>...</td>\n",
       "      <td>...</td>\n",
       "      <td>...</td>\n",
       "      <td>...</td>\n",
       "      <td>...</td>\n",
       "      <td>...</td>\n",
       "      <td>...</td>\n",
       "      <td>...</td>\n",
       "      <td>...</td>\n",
       "      <td>...</td>\n",
       "      <td>...</td>\n",
       "      <td>...</td>\n",
       "      <td>...</td>\n",
       "      <td>...</td>\n",
       "      <td>...</td>\n",
       "      <td>...</td>\n",
       "      <td>...</td>\n",
       "    </tr>\n",
       "    <tr>\n",
       "      <th>122458</th>\n",
       "      <td>2021-06-30</td>\n",
       "      <td>BA</td>\n",
       "      <td>BOEING CO/THE</td>\n",
       "      <td>Industrials</td>\n",
       "      <td>-0.030200</td>\n",
       "      <td>0.054244</td>\n",
       "      <td>0.598702</td>\n",
       "      <td>0.646625</td>\n",
       "      <td>0.499848</td>\n",
       "      <td>0.591674</td>\n",
       "      <td>3.0</td>\n",
       "      <td>3.0</td>\n",
       "      <td>2</td>\n",
       "      <td>2.0</td>\n",
       "      <td>7.0</td>\n",
       "      <td>7.0</td>\n",
       "      <td>5</td>\n",
       "      <td>5.0</td>\n",
       "    </tr>\n",
       "    <tr>\n",
       "      <th>122459</th>\n",
       "      <td>2021-06-30</td>\n",
       "      <td>AVGO</td>\n",
       "      <td>BROADCOM INC</td>\n",
       "      <td>Information Technology</td>\n",
       "      <td>0.017371</td>\n",
       "      <td>0.035357</td>\n",
       "      <td>0.273763</td>\n",
       "      <td>0.429447</td>\n",
       "      <td>0.457997</td>\n",
       "      <td>0.421776</td>\n",
       "      <td>3.0</td>\n",
       "      <td>3.0</td>\n",
       "      <td>2</td>\n",
       "      <td>2.0</td>\n",
       "      <td>6.0</td>\n",
       "      <td>6.0</td>\n",
       "      <td>5</td>\n",
       "      <td>5.0</td>\n",
       "    </tr>\n",
       "    <tr>\n",
       "      <th>122460</th>\n",
       "      <td>2021-06-30</td>\n",
       "      <td>VZ</td>\n",
       "      <td>VERIZON COMMUNIC</td>\n",
       "      <td>Communication Services</td>\n",
       "      <td>-0.008143</td>\n",
       "      <td>-0.022495</td>\n",
       "      <td>-0.721551</td>\n",
       "      <td>-0.630375</td>\n",
       "      <td>0.329806</td>\n",
       "      <td>0.503768</td>\n",
       "      <td>1.0</td>\n",
       "      <td>0.0</td>\n",
       "      <td>2</td>\n",
       "      <td>0.0</td>\n",
       "      <td>2.0</td>\n",
       "      <td>1.0</td>\n",
       "      <td>5</td>\n",
       "      <td>5.0</td>\n",
       "    </tr>\n",
       "    <tr>\n",
       "      <th>122461</th>\n",
       "      <td>2021-06-30</td>\n",
       "      <td>PSX</td>\n",
       "      <td>PHILLIPS 66</td>\n",
       "      <td>Energy</td>\n",
       "      <td>0.018998</td>\n",
       "      <td>0.052024</td>\n",
       "      <td>0.560500</td>\n",
       "      <td>-0.385256</td>\n",
       "      <td>0.494927</td>\n",
       "      <td>0.281770</td>\n",
       "      <td>3.0</td>\n",
       "      <td>1.0</td>\n",
       "      <td>2</td>\n",
       "      <td>2.0</td>\n",
       "      <td>7.0</td>\n",
       "      <td>3.0</td>\n",
       "      <td>5</td>\n",
       "      <td>5.0</td>\n",
       "    </tr>\n",
       "    <tr>\n",
       "      <th>122462</th>\n",
       "      <td>2021-06-30</td>\n",
       "      <td>LYB</td>\n",
       "      <td>LYONDELLBASELL-A</td>\n",
       "      <td>Materials</td>\n",
       "      <td>-0.077692</td>\n",
       "      <td>0.085599</td>\n",
       "      <td>1.138130</td>\n",
       "      <td>0.455941</td>\n",
       "      <td>0.569323</td>\n",
       "      <td>0.562113</td>\n",
       "      <td>4.0</td>\n",
       "      <td>3.0</td>\n",
       "      <td>4</td>\n",
       "      <td>2.0</td>\n",
       "      <td>9.0</td>\n",
       "      <td>6.0</td>\n",
       "      <td>10</td>\n",
       "      <td>5.0</td>\n",
       "    </tr>\n",
       "  </tbody>\n",
       "</table>\n",
       "<p>122463 rows × 18 columns</p>\n",
       "</div>"
      ],
      "text/plain": [
       "             Date Ticker              Name                  Sector  \\\n",
       "0      2001-01-31    ROH  ROHM AND HAAS CO               Materials   \n",
       "1      2001-01-31   SBUX    STARBUCKS CORP  Consumer Discretionary   \n",
       "2      2001-01-31   SPLS       STAPLES INC  Consumer Discretionary   \n",
       "3      2001-01-31  CMCSK  COMCAST CORP-SPL  Communication Services   \n",
       "4      2001-01-31  AAMRQ          AMR CORP             Industrials   \n",
       "...           ...    ...               ...                     ...   \n",
       "122458 2021-06-30     BA     BOEING CO/THE             Industrials   \n",
       "122459 2021-06-30   AVGO      BROADCOM INC  Information Technology   \n",
       "122460 2021-06-30     VZ  VERIZON COMMUNIC  Communication Services   \n",
       "122461 2021-06-30    PSX       PHILLIPS 66                  Energy   \n",
       "122462 2021-06-30    LYB  LYONDELLBASELL-A               Materials   \n",
       "\n",
       "        PRIOR_Returns_1m  FUTURE_Returns_1m  FUTURE_Returns_zscore_overall  \\\n",
       "0              -0.011360           0.220588                       1.106160   \n",
       "1               0.128531          -0.028807                      -0.693748   \n",
       "2               0.402116          -0.015625                      -0.598615   \n",
       "3               0.025449           0.086179                       0.136114   \n",
       "4              -0.002488           0.171963                       0.755224   \n",
       "...                  ...                ...                            ...   \n",
       "122458         -0.030200           0.054244                       0.598702   \n",
       "122459          0.017371           0.035357                       0.273763   \n",
       "122460         -0.008143          -0.022495                      -0.721551   \n",
       "122461          0.018998           0.052024                       0.560500   \n",
       "122462         -0.077692           0.085599                       1.138130   \n",
       "\n",
       "        FUTURE_Returns_zscore_bySector  FUTURE_Returns_MinMax_overall  \\\n",
       "0                             0.948310                       0.532108   \n",
       "1                            -0.802539                       0.342119   \n",
       "2                            -0.704078                       0.352161   \n",
       "3                             0.909245                       0.429715   \n",
       "4                             0.835152                       0.495065   \n",
       "...                                ...                            ...   \n",
       "122458                        0.646625                       0.499848   \n",
       "122459                        0.429447                       0.457997   \n",
       "122460                       -0.630375                       0.329806   \n",
       "122461                       -0.385256                       0.494927   \n",
       "122462                        0.455941                       0.569323   \n",
       "\n",
       "        FUTURE_Returns_MinMax_bySector  FUTURE_Returns_quintile_overall  \\\n",
       "0                             0.664444                              4.0   \n",
       "1                             0.324411                              1.0   \n",
       "2                             0.345999                              1.0   \n",
       "3                             0.776769                              2.0   \n",
       "4                             0.594089                              3.0   \n",
       "...                                ...                              ...   \n",
       "122458                        0.591674                              3.0   \n",
       "122459                        0.421776                              3.0   \n",
       "122460                        0.503768                              1.0   \n",
       "122461                        0.281770                              3.0   \n",
       "122462                        0.562113                              4.0   \n",
       "\n",
       "        FUTURE_Returns_quintile_bySector  FUTURE_Returns_top_bot_100_overall  \\\n",
       "0                                    4.0                                   4   \n",
       "1                                    1.0                                   2   \n",
       "2                                    1.0                                   2   \n",
       "3                                    3.0                                   2   \n",
       "4                                    4.0                                   2   \n",
       "...                                  ...                                 ...   \n",
       "122458                               3.0                                   2   \n",
       "122459                               3.0                                   2   \n",
       "122460                               0.0                                   2   \n",
       "122461                               1.0                                   2   \n",
       "122462                               3.0                                   4   \n",
       "\n",
       "        FUTURE_Returns_top_bot_100_bySector  FUTURE_Returns_decile_overall  \\\n",
       "0                                       4.0                            8.0   \n",
       "1                                       2.0                            2.0   \n",
       "2                                       2.0                            2.0   \n",
       "3                                       2.0                            5.0   \n",
       "4                                       4.0                            7.0   \n",
       "...                                     ...                            ...   \n",
       "122458                                  2.0                            7.0   \n",
       "122459                                  2.0                            6.0   \n",
       "122460                                  0.0                            2.0   \n",
       "122461                                  2.0                            7.0   \n",
       "122462                                  2.0                            9.0   \n",
       "\n",
       "        FUTURE_Returns_decile_bySector  FUTURE_Returns_top_bot_50_overall  \\\n",
       "0                                  8.0                                  5   \n",
       "1                                  2.0                                  5   \n",
       "2                                  2.0                                  5   \n",
       "3                                  7.0                                  5   \n",
       "4                                  8.0                                  5   \n",
       "...                                ...                                ...   \n",
       "122458                             7.0                                  5   \n",
       "122459                             6.0                                  5   \n",
       "122460                             1.0                                  5   \n",
       "122461                             3.0                                  5   \n",
       "122462                             6.0                                 10   \n",
       "\n",
       "        FUTURE_Returns_top_bot_50_bySector  \n",
       "0                                      5.0  \n",
       "1                                      5.0  \n",
       "2                                      5.0  \n",
       "3                                      5.0  \n",
       "4                                      5.0  \n",
       "...                                    ...  \n",
       "122458                                 5.0  \n",
       "122459                                 5.0  \n",
       "122460                                 5.0  \n",
       "122461                                 5.0  \n",
       "122462                                 5.0  \n",
       "\n",
       "[122463 rows x 18 columns]"
      ]
     },
     "execution_count": 4,
     "metadata": {},
     "output_type": "execute_result"
    }
   ],
   "source": [
    "y_csv_data = pd.read_csv('SP500_Supervised_Y_Variable_Options.csv')# all the possible y variables\n",
    "\n",
    "y_csv_data['Date'] = pd.to_datetime(y_csv_data['Date'], format=\"%Y-%m-%d\") #Date column to datetime, just to make sure (this is just a precaution, dataframe should already be in this format)\n",
    "y_csv_data = y_csv_data.sort_values(by='Date', ascending=True).reset_index(drop=True) #dates sorted to better visualize output (this is just a precaution, dataframe should already be in this format)\n",
    "\n",
    "y_csv_data # look at the data "
   ]
  },
  {
   "cell_type": "code",
   "execution_count": 5,
   "metadata": {
    "colab": {
     "base_uri": "https://localhost:8080/"
    },
    "executionInfo": {
     "elapsed": 20,
     "status": "ok",
     "timestamp": 1643409318637,
     "user": {
      "displayName": "Jason Tan",
      "photoUrl": "https://lh3.googleusercontent.com/a-/AOh14GiI78rGWPpUz8y61T66cRNWU4RElK_H5aEFGW_rIg=s64",
      "userId": "05999151273014782026"
     },
     "user_tz": 300
    },
    "id": "rOV_eCBtVlgw",
    "outputId": "76ba0e2b-c48a-4505-dddc-3dd7df82d5bf"
   },
   "outputs": [
    {
     "data": {
      "text/plain": [
       "['Date',\n",
       " 'Ticker',\n",
       " 'Name',\n",
       " 'Sector',\n",
       " 'PRIOR_Returns_1m',\n",
       " 'FUTURE_Returns_1m',\n",
       " 'FUTURE_Returns_zscore_overall',\n",
       " 'FUTURE_Returns_zscore_bySector',\n",
       " 'FUTURE_Returns_MinMax_overall',\n",
       " 'FUTURE_Returns_MinMax_bySector',\n",
       " 'FUTURE_Returns_quintile_overall',\n",
       " 'FUTURE_Returns_quintile_bySector',\n",
       " 'FUTURE_Returns_top_bot_100_overall',\n",
       " 'FUTURE_Returns_top_bot_100_bySector',\n",
       " 'FUTURE_Returns_decile_overall',\n",
       " 'FUTURE_Returns_decile_bySector',\n",
       " 'FUTURE_Returns_top_bot_50_overall',\n",
       " 'FUTURE_Returns_top_bot_50_bySector']"
      ]
     },
     "execution_count": 5,
     "metadata": {},
     "output_type": "execute_result"
    }
   ],
   "source": [
    "y_csv_data.columns.to_list()"
   ]
  },
  {
   "cell_type": "markdown",
   "metadata": {
    "id": "b6lRKDFvVqNA"
   },
   "source": [
    "# Combine X-variable dataframe and y-variable dataframe\n",
    "## And remove un-wanted columns"
   ]
  },
  {
   "cell_type": "code",
   "execution_count": 6,
   "metadata": {
    "colab": {
     "base_uri": "https://localhost:8080/",
     "height": 593
    },
    "executionInfo": {
     "elapsed": 204,
     "status": "ok",
     "timestamp": 1643409318833,
     "user": {
      "displayName": "Jason Tan",
      "photoUrl": "https://lh3.googleusercontent.com/a-/AOh14GiI78rGWPpUz8y61T66cRNWU4RElK_H5aEFGW_rIg=s64",
      "userId": "05999151273014782026"
     },
     "user_tz": 300
    },
    "id": "JRAZqCnsV6XI",
    "outputId": "39fbe53b-8668-4ab9-dcfc-628111135bd5"
   },
   "outputs": [
    {
     "data": {
      "text/html": [
       "<div>\n",
       "<style scoped>\n",
       "    .dataframe tbody tr th:only-of-type {\n",
       "        vertical-align: middle;\n",
       "    }\n",
       "\n",
       "    .dataframe tbody tr th {\n",
       "        vertical-align: top;\n",
       "    }\n",
       "\n",
       "    .dataframe thead th {\n",
       "        text-align: right;\n",
       "    }\n",
       "</style>\n",
       "<table border=\"1\" class=\"dataframe\">\n",
       "  <thead>\n",
       "    <tr style=\"text-align: right;\">\n",
       "      <th></th>\n",
       "      <th>Date</th>\n",
       "      <th>Ticker</th>\n",
       "      <th>Name</th>\n",
       "      <th>Sector</th>\n",
       "      <th>Price_Returns_12m</th>\n",
       "      <th>Price_Returns_6m</th>\n",
       "      <th>Price_Returns_3m</th>\n",
       "      <th>Price_Returns_1m</th>\n",
       "      <th>Moving_Avg_Returns_12m</th>\n",
       "      <th>Moving_Avg_Returns_6m</th>\n",
       "      <th>...</th>\n",
       "      <th>NetDebt_EBITDA</th>\n",
       "      <th>Trail1yr_EPSgro</th>\n",
       "      <th>Trail1yr_DPSgro</th>\n",
       "      <th>FUTURE_Returns_MinMax_overall</th>\n",
       "      <th>FUTURE_Returns_quintile_overall</th>\n",
       "      <th>FUTURE_Returns_top_bot_100_overall</th>\n",
       "      <th>FUTURE_Returns_top_bot_100_bySector</th>\n",
       "      <th>FUTURE_Returns_decile_overall</th>\n",
       "      <th>FUTURE_Returns_top_bot_50_overall</th>\n",
       "      <th>FUTURE_Returns_top_bot_50_bySector</th>\n",
       "    </tr>\n",
       "  </thead>\n",
       "  <tbody>\n",
       "    <tr>\n",
       "      <th>64163</th>\n",
       "      <td>2013-02-28</td>\n",
       "      <td>FLR</td>\n",
       "      <td>FLUOR CORP</td>\n",
       "      <td>Industrials</td>\n",
       "      <td>0.34828</td>\n",
       "      <td>0.23020</td>\n",
       "      <td>0.26613</td>\n",
       "      <td>0.39815</td>\n",
       "      <td>0.51765</td>\n",
       "      <td>0.31989</td>\n",
       "      <td>...</td>\n",
       "      <td>0.31052</td>\n",
       "      <td>0.78426</td>\n",
       "      <td>0.15170</td>\n",
       "      <td>0.269191</td>\n",
       "      <td>4.0</td>\n",
       "      <td>4.0</td>\n",
       "      <td>4.0</td>\n",
       "      <td>8.0</td>\n",
       "      <td>5.0</td>\n",
       "      <td>5.0</td>\n",
       "    </tr>\n",
       "    <tr>\n",
       "      <th>3605</th>\n",
       "      <td>2002-07-31</td>\n",
       "      <td>1280712D</td>\n",
       "      <td>NOVELLUS SYS</td>\n",
       "      <td>Information Technology</td>\n",
       "      <td>0.28182</td>\n",
       "      <td>0.34476</td>\n",
       "      <td>0.40523</td>\n",
       "      <td>0.33208</td>\n",
       "      <td>0.63620</td>\n",
       "      <td>0.57307</td>\n",
       "      <td>...</td>\n",
       "      <td>0.21480</td>\n",
       "      <td>0.79126</td>\n",
       "      <td>0.31819</td>\n",
       "      <td>0.482395</td>\n",
       "      <td>0.0</td>\n",
       "      <td>0.0</td>\n",
       "      <td>2.0</td>\n",
       "      <td>1.0</td>\n",
       "      <td>5.0</td>\n",
       "      <td>5.0</td>\n",
       "    </tr>\n",
       "    <tr>\n",
       "      <th>46894</th>\n",
       "      <td>2010-02-28</td>\n",
       "      <td>RHI</td>\n",
       "      <td>ROBERT HALF INTL</td>\n",
       "      <td>Industrials</td>\n",
       "      <td>0.11187</td>\n",
       "      <td>0.41435</td>\n",
       "      <td>0.66171</td>\n",
       "      <td>0.33348</td>\n",
       "      <td>0.28469</td>\n",
       "      <td>0.45325</td>\n",
       "      <td>...</td>\n",
       "      <td>0.17001</td>\n",
       "      <td>0.81194</td>\n",
       "      <td>0.18147</td>\n",
       "      <td>0.363488</td>\n",
       "      <td>3.0</td>\n",
       "      <td>2.0</td>\n",
       "      <td>4.0</td>\n",
       "      <td>7.0</td>\n",
       "      <td>5.0</td>\n",
       "      <td>5.0</td>\n",
       "    </tr>\n",
       "    <tr>\n",
       "      <th>30666</th>\n",
       "      <td>2007-04-30</td>\n",
       "      <td>GR</td>\n",
       "      <td>GOODRICH CORP</td>\n",
       "      <td>Industrials</td>\n",
       "      <td>0.44837</td>\n",
       "      <td>0.42810</td>\n",
       "      <td>0.45988</td>\n",
       "      <td>0.39002</td>\n",
       "      <td>0.58345</td>\n",
       "      <td>0.53248</td>\n",
       "      <td>...</td>\n",
       "      <td>0.84508</td>\n",
       "      <td>0.38815</td>\n",
       "      <td>0.09735</td>\n",
       "      <td>0.542507</td>\n",
       "      <td>4.0</td>\n",
       "      <td>4.0</td>\n",
       "      <td>4.0</td>\n",
       "      <td>8.0</td>\n",
       "      <td>5.0</td>\n",
       "      <td>5.0</td>\n",
       "    </tr>\n",
       "    <tr>\n",
       "      <th>35439</th>\n",
       "      <td>2008-02-29</td>\n",
       "      <td>LM</td>\n",
       "      <td>LEGG MASON INC</td>\n",
       "      <td>Financials</td>\n",
       "      <td>0.25818</td>\n",
       "      <td>0.33813</td>\n",
       "      <td>0.44391</td>\n",
       "      <td>0.31301</td>\n",
       "      <td>0.48644</td>\n",
       "      <td>0.52246</td>\n",
       "      <td>...</td>\n",
       "      <td>0.43017</td>\n",
       "      <td>0.78191</td>\n",
       "      <td>0.01806</td>\n",
       "      <td>0.483332</td>\n",
       "      <td>3.0</td>\n",
       "      <td>2.0</td>\n",
       "      <td>2.0</td>\n",
       "      <td>6.0</td>\n",
       "      <td>5.0</td>\n",
       "      <td>5.0</td>\n",
       "    </tr>\n",
       "    <tr>\n",
       "      <th>26449</th>\n",
       "      <td>2006-07-31</td>\n",
       "      <td>HET</td>\n",
       "      <td>HARRAH'S ENTERTA</td>\n",
       "      <td>Consumer Discretionary</td>\n",
       "      <td>0.20772</td>\n",
       "      <td>0.36559</td>\n",
       "      <td>0.32492</td>\n",
       "      <td>0.44721</td>\n",
       "      <td>0.33755</td>\n",
       "      <td>0.47890</td>\n",
       "      <td>...</td>\n",
       "      <td>0.11371</td>\n",
       "      <td>0.58698</td>\n",
       "      <td>0.07563</td>\n",
       "      <td>0.356878</td>\n",
       "      <td>0.0</td>\n",
       "      <td>0.0</td>\n",
       "      <td>0.0</td>\n",
       "      <td>1.0</td>\n",
       "      <td>5.0</td>\n",
       "      <td>5.0</td>\n",
       "    </tr>\n",
       "    <tr>\n",
       "      <th>89106</th>\n",
       "      <td>2017-06-30</td>\n",
       "      <td>NOV</td>\n",
       "      <td>NOV INC</td>\n",
       "      <td>Energy</td>\n",
       "      <td>0.17463</td>\n",
       "      <td>0.27200</td>\n",
       "      <td>0.21063</td>\n",
       "      <td>0.42643</td>\n",
       "      <td>0.32539</td>\n",
       "      <td>0.38039</td>\n",
       "      <td>...</td>\n",
       "      <td>0.97520</td>\n",
       "      <td>0.40376</td>\n",
       "      <td>0.02608</td>\n",
       "      <td>0.311016</td>\n",
       "      <td>0.0</td>\n",
       "      <td>0.0</td>\n",
       "      <td>2.0</td>\n",
       "      <td>1.0</td>\n",
       "      <td>5.0</td>\n",
       "      <td>5.0</td>\n",
       "    </tr>\n",
       "    <tr>\n",
       "      <th>8807</th>\n",
       "      <td>2003-06-30</td>\n",
       "      <td>2987536Q</td>\n",
       "      <td>SYMBOL TECHNOLOG</td>\n",
       "      <td>Information Technology</td>\n",
       "      <td>0.23935</td>\n",
       "      <td>0.30680</td>\n",
       "      <td>0.33010</td>\n",
       "      <td>0.45525</td>\n",
       "      <td>0.52423</td>\n",
       "      <td>0.43644</td>\n",
       "      <td>...</td>\n",
       "      <td>0.22391</td>\n",
       "      <td>0.49530</td>\n",
       "      <td>0.24988</td>\n",
       "      <td>0.352054</td>\n",
       "      <td>4.0</td>\n",
       "      <td>4.0</td>\n",
       "      <td>2.0</td>\n",
       "      <td>9.0</td>\n",
       "      <td>10.0</td>\n",
       "      <td>5.0</td>\n",
       "    </tr>\n",
       "    <tr>\n",
       "      <th>20980</th>\n",
       "      <td>2005-07-31</td>\n",
       "      <td>TWX</td>\n",
       "      <td>TIME WARNER INC</td>\n",
       "      <td>Communication Services</td>\n",
       "      <td>0.26571</td>\n",
       "      <td>0.33250</td>\n",
       "      <td>0.11202</td>\n",
       "      <td>0.33587</td>\n",
       "      <td>0.41146</td>\n",
       "      <td>0.35036</td>\n",
       "      <td>...</td>\n",
       "      <td>0.30292</td>\n",
       "      <td>0.26036</td>\n",
       "      <td>0.04365</td>\n",
       "      <td>0.360923</td>\n",
       "      <td>0.0</td>\n",
       "      <td>0.0</td>\n",
       "      <td>2.0</td>\n",
       "      <td>1.0</td>\n",
       "      <td>5.0</td>\n",
       "      <td>5.0</td>\n",
       "    </tr>\n",
       "    <tr>\n",
       "      <th>18984</th>\n",
       "      <td>2005-03-31</td>\n",
       "      <td>HSP</td>\n",
       "      <td>HOSPIRA INC</td>\n",
       "      <td>Health Care</td>\n",
       "      <td>0.28153</td>\n",
       "      <td>0.34016</td>\n",
       "      <td>0.41514</td>\n",
       "      <td>0.61106</td>\n",
       "      <td>0.43210</td>\n",
       "      <td>0.45802</td>\n",
       "      <td>...</td>\n",
       "      <td>0.24715</td>\n",
       "      <td>0.70446</td>\n",
       "      <td>0.04939</td>\n",
       "      <td>0.553599</td>\n",
       "      <td>2.0</td>\n",
       "      <td>2.0</td>\n",
       "      <td>2.0</td>\n",
       "      <td>5.0</td>\n",
       "      <td>5.0</td>\n",
       "      <td>5.0</td>\n",
       "    </tr>\n",
       "  </tbody>\n",
       "</table>\n",
       "<p>10 rows × 29 columns</p>\n",
       "</div>"
      ],
      "text/plain": [
       "            Date    Ticker              Name                  Sector  \\\n",
       "64163 2013-02-28       FLR        FLUOR CORP             Industrials   \n",
       "3605  2002-07-31  1280712D      NOVELLUS SYS  Information Technology   \n",
       "46894 2010-02-28       RHI  ROBERT HALF INTL             Industrials   \n",
       "30666 2007-04-30        GR     GOODRICH CORP             Industrials   \n",
       "35439 2008-02-29        LM    LEGG MASON INC              Financials   \n",
       "26449 2006-07-31       HET  HARRAH'S ENTERTA  Consumer Discretionary   \n",
       "89106 2017-06-30       NOV           NOV INC                  Energy   \n",
       "8807  2003-06-30  2987536Q  SYMBOL TECHNOLOG  Information Technology   \n",
       "20980 2005-07-31       TWX   TIME WARNER INC  Communication Services   \n",
       "18984 2005-03-31       HSP       HOSPIRA INC             Health Care   \n",
       "\n",
       "       Price_Returns_12m  Price_Returns_6m  Price_Returns_3m  \\\n",
       "64163            0.34828           0.23020           0.26613   \n",
       "3605             0.28182           0.34476           0.40523   \n",
       "46894            0.11187           0.41435           0.66171   \n",
       "30666            0.44837           0.42810           0.45988   \n",
       "35439            0.25818           0.33813           0.44391   \n",
       "26449            0.20772           0.36559           0.32492   \n",
       "89106            0.17463           0.27200           0.21063   \n",
       "8807             0.23935           0.30680           0.33010   \n",
       "20980            0.26571           0.33250           0.11202   \n",
       "18984            0.28153           0.34016           0.41514   \n",
       "\n",
       "       Price_Returns_1m  Moving_Avg_Returns_12m  Moving_Avg_Returns_6m  ...  \\\n",
       "64163           0.39815                 0.51765                0.31989  ...   \n",
       "3605            0.33208                 0.63620                0.57307  ...   \n",
       "46894           0.33348                 0.28469                0.45325  ...   \n",
       "30666           0.39002                 0.58345                0.53248  ...   \n",
       "35439           0.31301                 0.48644                0.52246  ...   \n",
       "26449           0.44721                 0.33755                0.47890  ...   \n",
       "89106           0.42643                 0.32539                0.38039  ...   \n",
       "8807            0.45525                 0.52423                0.43644  ...   \n",
       "20980           0.33587                 0.41146                0.35036  ...   \n",
       "18984           0.61106                 0.43210                0.45802  ...   \n",
       "\n",
       "       NetDebt_EBITDA  Trail1yr_EPSgro  Trail1yr_DPSgro  \\\n",
       "64163         0.31052          0.78426          0.15170   \n",
       "3605          0.21480          0.79126          0.31819   \n",
       "46894         0.17001          0.81194          0.18147   \n",
       "30666         0.84508          0.38815          0.09735   \n",
       "35439         0.43017          0.78191          0.01806   \n",
       "26449         0.11371          0.58698          0.07563   \n",
       "89106         0.97520          0.40376          0.02608   \n",
       "8807          0.22391          0.49530          0.24988   \n",
       "20980         0.30292          0.26036          0.04365   \n",
       "18984         0.24715          0.70446          0.04939   \n",
       "\n",
       "       FUTURE_Returns_MinMax_overall  FUTURE_Returns_quintile_overall  \\\n",
       "64163                       0.269191                              4.0   \n",
       "3605                        0.482395                              0.0   \n",
       "46894                       0.363488                              3.0   \n",
       "30666                       0.542507                              4.0   \n",
       "35439                       0.483332                              3.0   \n",
       "26449                       0.356878                              0.0   \n",
       "89106                       0.311016                              0.0   \n",
       "8807                        0.352054                              4.0   \n",
       "20980                       0.360923                              0.0   \n",
       "18984                       0.553599                              2.0   \n",
       "\n",
       "       FUTURE_Returns_top_bot_100_overall  \\\n",
       "64163                                 4.0   \n",
       "3605                                  0.0   \n",
       "46894                                 2.0   \n",
       "30666                                 4.0   \n",
       "35439                                 2.0   \n",
       "26449                                 0.0   \n",
       "89106                                 0.0   \n",
       "8807                                  4.0   \n",
       "20980                                 0.0   \n",
       "18984                                 2.0   \n",
       "\n",
       "       FUTURE_Returns_top_bot_100_bySector  FUTURE_Returns_decile_overall  \\\n",
       "64163                                  4.0                            8.0   \n",
       "3605                                   2.0                            1.0   \n",
       "46894                                  4.0                            7.0   \n",
       "30666                                  4.0                            8.0   \n",
       "35439                                  2.0                            6.0   \n",
       "26449                                  0.0                            1.0   \n",
       "89106                                  2.0                            1.0   \n",
       "8807                                   2.0                            9.0   \n",
       "20980                                  2.0                            1.0   \n",
       "18984                                  2.0                            5.0   \n",
       "\n",
       "       FUTURE_Returns_top_bot_50_overall  FUTURE_Returns_top_bot_50_bySector  \n",
       "64163                                5.0                                 5.0  \n",
       "3605                                 5.0                                 5.0  \n",
       "46894                                5.0                                 5.0  \n",
       "30666                                5.0                                 5.0  \n",
       "35439                                5.0                                 5.0  \n",
       "26449                                5.0                                 5.0  \n",
       "89106                                5.0                                 5.0  \n",
       "8807                                10.0                                 5.0  \n",
       "20980                                5.0                                 5.0  \n",
       "18984                                5.0                                 5.0  \n",
       "\n",
       "[10 rows x 29 columns]"
      ]
     },
     "execution_count": 6,
     "metadata": {},
     "output_type": "execute_result"
    }
   ],
   "source": [
    "combined_df = csv_data.merge(y_csv_data, how='left', on=['Date','Ticker','Name','Sector']).copy()# put x and y together \n",
    "\n",
    "### drop un-wanted columns that are neither x-variables nor y-variables, \n",
    "combined_df.drop(['PRIOR_Returns_1m', 'FUTURE_Returns_1m'], axis=1, inplace=True)\n",
    "\n",
    "### drop y-variable options that are normalized or ranked by Sector instead of Overall, as our EDA suggested we focus on Overall\n",
    "combined_df.drop(['FUTURE_Returns_zscore_bySector', 'FUTURE_Returns_MinMax_bySector', 'FUTURE_Returns_quintile_bySector', 'FUTURE_Returns_decile_bySector'], axis=1, inplace=True)\n",
    "\n",
    "### drop remaining y-variable option normalized by z-score, as we prefer to scale by MinMax\n",
    "combined_df.drop(['FUTURE_Returns_zscore_overall'], axis=1, inplace=True)\n",
    "\n",
    "### drop remaining NaNs, which would be generated by merging by the left-hand side (the features)\n",
    "### these are those ~400+ instances where there simply was not a Prior row for that stock on which to create a Future Return for the y-variable options.\n",
    "combined_df = combined_df.dropna()\n",
    "\n",
    "\n",
    "combined_df.sample(10)"
   ]
  },
  {
   "cell_type": "code",
   "execution_count": 7,
   "metadata": {
    "executionInfo": {
     "elapsed": 10,
     "status": "ok",
     "timestamp": 1643409318834,
     "user": {
      "displayName": "Jason Tan",
      "photoUrl": "https://lh3.googleusercontent.com/a-/AOh14GiI78rGWPpUz8y61T66cRNWU4RElK_H5aEFGW_rIg=s64",
      "userId": "05999151273014782026"
     },
     "user_tz": 300
    },
    "id": "ExSU80CWXrMc"
   },
   "outputs": [],
   "source": [
    "### Helpful lists of our X features and y variable options\n",
    "X_features_columns = ['Price_Returns_12m', 'Price_Returns_3m', 'Price_Returns_1m', 'Trail_DivYld', 'PB', 'Trail_EV_EBITDA', 'Trail_PE', 'Trail3yrAvg_EPSgro', 'Trail3yrAvg_DPSgro', 'Volatility', 'Debt_to_MktCap', 'NetDebt_EBITDA', 'Trail1yr_EPSgro', 'Trail1yr_DPSgro']\n",
    "y_option_columns = ['FUTURE_Returns_MinMax_overall', 'FUTURE_Returns_quintile_overall', 'FUTURE_Returns_decile_overall', 'FUTURE_Returns_top_bot_100_overall', 'FUTURE_Returns_top_bot_50_overall']"
   ]
  },
  {
   "cell_type": "markdown",
   "metadata": {
    "id": "Y2hmRBo-Y8RE"
   },
   "source": [
    "# Start of Supervised Learning Analysis...\n"
   ]
  },
  {
   "cell_type": "code",
   "execution_count": 8,
   "metadata": {
    "executionInfo": {
     "elapsed": 10,
     "status": "ok",
     "timestamp": 1643409318836,
     "user": {
      "displayName": "Jason Tan",
      "photoUrl": "https://lh3.googleusercontent.com/a-/AOh14GiI78rGWPpUz8y61T66cRNWU4RElK_H5aEFGW_rIg=s64",
      "userId": "05999151273014782026"
     },
     "user_tz": 300
    },
    "id": "2Qf-bGelZFXg"
   },
   "outputs": [],
   "source": [
    "# get the x and y\n",
    "X = combined_df.loc[:,X_features_columns]\n",
    "y = combined_df.loc[:,y_option_columns]"
   ]
  },
  {
   "cell_type": "code",
   "execution_count": 9,
   "metadata": {
    "executionInfo": {
     "elapsed": 584,
     "status": "ok",
     "timestamp": 1643409319411,
     "user": {
      "displayName": "Jason Tan",
      "photoUrl": "https://lh3.googleusercontent.com/a-/AOh14GiI78rGWPpUz8y61T66cRNWU4RElK_H5aEFGW_rIg=s64",
      "userId": "05999151273014782026"
     },
     "user_tz": 300
    },
    "id": "WysjCH13vVCH"
   },
   "outputs": [],
   "source": [
    "from sklearn.model_selection import train_test_split\n",
    "# split data into 90% training and 10% test\n",
    "X_train, X_test, y_train, y_test = train_test_split(X, y, test_size=0.1, random_state=0)"
   ]
  },
  {
   "cell_type": "code",
   "execution_count": 10,
   "metadata": {
    "executionInfo": {
     "elapsed": 10,
     "status": "ok",
     "timestamp": 1643409319412,
     "user": {
      "displayName": "Jason Tan",
      "photoUrl": "https://lh3.googleusercontent.com/a-/AOh14GiI78rGWPpUz8y61T66cRNWU4RElK_H5aEFGW_rIg=s64",
      "userId": "05999151273014782026"
     },
     "user_tz": 300
    },
    "id": "evNZZeTivVCI"
   },
   "outputs": [],
   "source": [
    "#create a function that prints the classifer scores\n",
    "from sklearn.metrics import accuracy_score, f1_score, precision_score,recall_score,roc_auc_score\n",
    "def print_clf_scores(y_test_clf, pred):\n",
    "    print(\"accuracy_score: \",accuracy_score(y_test_clf, pred))\n",
    "    print(\"precision_score: \",precision_score(y_test_clf, pred, average='macro'))\n",
    "    print(\"recall_score: \",recall_score(y_test_clf, pred, average='macro'))\n",
    "    print(\"f1_score: \",f1_score(y_test_clf, pred, average='macro'))"
   ]
  },
  {
   "cell_type": "code",
   "execution_count": 11,
   "metadata": {
    "executionInfo": {
     "elapsed": 8,
     "status": "ok",
     "timestamp": 1643409319413,
     "user": {
      "displayName": "Jason Tan",
      "photoUrl": "https://lh3.googleusercontent.com/a-/AOh14GiI78rGWPpUz8y61T66cRNWU4RElK_H5aEFGW_rIg=s64",
      "userId": "05999151273014782026"
     },
     "user_tz": 300
    },
    "id": "yJETXowOvVCI"
   },
   "outputs": [],
   "source": [
    "# choose the y variable being used for this analysis     \n",
    "y_train_clf=y_train.FUTURE_Returns_top_bot_100_overall\n",
    "y_test_clf=y_test.FUTURE_Returns_top_bot_100_overall"
   ]
  },
  {
   "cell_type": "markdown",
   "metadata": {
    "id": "G17DMDbXvVCJ"
   },
   "source": [
    "### Dummy Classifer"
   ]
  },
  {
   "cell_type": "code",
   "execution_count": 12,
   "metadata": {
    "colab": {
     "base_uri": "https://localhost:8080/"
    },
    "executionInfo": {
     "elapsed": 362,
     "status": "ok",
     "timestamp": 1643409319768,
     "user": {
      "displayName": "Jason Tan",
      "photoUrl": "https://lh3.googleusercontent.com/a-/AOh14GiI78rGWPpUz8y61T66cRNWU4RElK_H5aEFGW_rIg=s64",
      "userId": "05999151273014782026"
     },
     "user_tz": 300
    },
    "id": "EgDyYP16vVCJ",
    "outputId": "4485c656-68db-44e4-9800-e7f32e3d2555"
   },
   "outputs": [
    {
     "data": {
      "text/plain": [
       "DummyClassifier(strategy='most_frequent')"
      ]
     },
     "execution_count": 12,
     "metadata": {},
     "output_type": "execute_result"
    }
   ],
   "source": [
    "from sklearn.dummy import DummyClassifier\n",
    "dc=DummyClassifier(strategy='most_frequent')\n",
    "dc.fit(X_train, y_train_clf)"
   ]
  },
  {
   "cell_type": "code",
   "execution_count": 13,
   "metadata": {
    "colab": {
     "base_uri": "https://localhost:8080/"
    },
    "executionInfo": {
     "elapsed": 17,
     "status": "ok",
     "timestamp": 1643409319769,
     "user": {
      "displayName": "Jason Tan",
      "photoUrl": "https://lh3.googleusercontent.com/a-/AOh14GiI78rGWPpUz8y61T66cRNWU4RElK_H5aEFGW_rIg=s64",
      "userId": "05999151273014782026"
     },
     "user_tz": 300
    },
    "id": "MQo5Id7kvVCK",
    "outputId": "34998af8-77a5-4ebc-a6d9-e9f6add9a111",
    "scrolled": true
   },
   "outputs": [
    {
     "name": "stdout",
     "output_type": "stream",
     "text": [
      "accuracy_score:  0.6035261805617081\n",
      "precision_score:  0.20117539352056937\n",
      "recall_score:  0.3333333333333333\n",
      "f1_score:  0.2509162568834374\n"
     ]
    },
    {
     "name": "stderr",
     "output_type": "stream",
     "text": [
      "/Users/jasontan/opt/anaconda3/lib/python3.8/site-packages/sklearn/metrics/_classification.py:1248: UndefinedMetricWarning: Precision is ill-defined and being set to 0.0 in labels with no predicted samples. Use `zero_division` parameter to control this behavior.\n",
      "  _warn_prf(average, modifier, msg_start, len(result))\n"
     ]
    }
   ],
   "source": [
    "pred = dc.predict(X_test)\n",
    "print_clf_scores(y_test_clf, pred)"
   ]
  },
  {
   "cell_type": "markdown",
   "metadata": {
    "id": "ayZaVM63vVCL"
   },
   "source": [
    "### Logistic Regression"
   ]
  },
  {
   "cell_type": "code",
   "execution_count": 14,
   "metadata": {
    "colab": {
     "base_uri": "https://localhost:8080/"
    },
    "executionInfo": {
     "elapsed": 121824,
     "status": "ok",
     "timestamp": 1643409441589,
     "user": {
      "displayName": "Jason Tan",
      "photoUrl": "https://lh3.googleusercontent.com/a-/AOh14GiI78rGWPpUz8y61T66cRNWU4RElK_H5aEFGW_rIg=s64",
      "userId": "05999151273014782026"
     },
     "user_tz": 300
    },
    "id": "-UUbTAlpvVCL",
    "outputId": "04435346-ca98-4fb8-b4cc-ddb9b099d7dc"
   },
   "outputs": [
    {
     "name": "stderr",
     "output_type": "stream",
     "text": [
      "/Users/jasontan/opt/anaconda3/lib/python3.8/site-packages/sklearn/model_selection/_search.py:922: UserWarning: One or more of the test scores are non-finite: [nan nan nan nan nan nan nan nan nan nan]\n",
      "  warnings.warn(\n"
     ]
    },
    {
     "data": {
      "text/plain": [
       "LogisticRegression(C=38.36226276223484, n_jobs=-1, random_state=0)"
      ]
     },
     "execution_count": 14,
     "metadata": {},
     "output_type": "execute_result"
    }
   ],
   "source": [
    "from sklearn.linear_model import LogisticRegression\n",
    "from sklearn.model_selection import GridSearchCV, RandomizedSearchCV\n",
    "from scipy.stats import loguniform, uniform\n",
    "import matplotlib.pyplot as plt\n",
    "\n",
    "lr = LogisticRegression(random_state=0, n_jobs=-1)\n",
    "parameters={'penalty':['l2','none'], 'C':uniform(loc=0, scale=100)}\n",
    "clf=RandomizedSearchCV(lr, parameters, scoring=f1_score, n_jobs=-1, cv=5)\n",
    "clf.fit(X_train, y_train_clf)\n",
    "clf.best_estimator_"
   ]
  },
  {
   "cell_type": "code",
   "execution_count": 15,
   "metadata": {
    "colab": {
     "base_uri": "https://localhost:8080/"
    },
    "executionInfo": {
     "elapsed": 19,
     "status": "ok",
     "timestamp": 1643409441592,
     "user": {
      "displayName": "Jason Tan",
      "photoUrl": "https://lh3.googleusercontent.com/a-/AOh14GiI78rGWPpUz8y61T66cRNWU4RElK_H5aEFGW_rIg=s64",
      "userId": "05999151273014782026"
     },
     "user_tz": 300
    },
    "id": "--kyRSHDvVCM",
    "outputId": "ec743881-5d98-4456-ae99-960c133e418f"
   },
   "outputs": [
    {
     "name": "stdout",
     "output_type": "stream",
     "text": [
      "accuracy_score:  0.6334721360857624\n",
      "precision_score:  0.6046061246749043\n",
      "recall_score:  0.4290876109397259\n",
      "f1_score:  0.4338447960295127\n"
     ]
    }
   ],
   "source": [
    "pred = clf.predict(X_test)\n",
    "print_clf_scores(y_test_clf, pred)"
   ]
  },
  {
   "cell_type": "markdown",
   "metadata": {
    "id": "hYchfkkovVCN"
   },
   "source": [
    "### Gaussian Naive Bayes"
   ]
  },
  {
   "cell_type": "code",
   "execution_count": 16,
   "metadata": {
    "colab": {
     "base_uri": "https://localhost:8080/"
    },
    "executionInfo": {
     "elapsed": 214,
     "status": "ok",
     "timestamp": 1643409441795,
     "user": {
      "displayName": "Jason Tan",
      "photoUrl": "https://lh3.googleusercontent.com/a-/AOh14GiI78rGWPpUz8y61T66cRNWU4RElK_H5aEFGW_rIg=s64",
      "userId": "05999151273014782026"
     },
     "user_tz": 300
    },
    "id": "P-DFFPXwvVCN",
    "outputId": "25a765ad-8256-4123-a6af-73151d1d3338"
   },
   "outputs": [
    {
     "data": {
      "text/plain": [
       "GaussianNB()"
      ]
     },
     "execution_count": 16,
     "metadata": {},
     "output_type": "execute_result"
    }
   ],
   "source": [
    "from sklearn.naive_bayes import GaussianNB\n",
    "gnb=GaussianNB()\n",
    "gnb.fit(X_train, y_train_clf)"
   ]
  },
  {
   "cell_type": "code",
   "execution_count": 17,
   "metadata": {
    "colab": {
     "base_uri": "https://localhost:8080/"
    },
    "executionInfo": {
     "elapsed": 14,
     "status": "ok",
     "timestamp": 1643409441797,
     "user": {
      "displayName": "Jason Tan",
      "photoUrl": "https://lh3.googleusercontent.com/a-/AOh14GiI78rGWPpUz8y61T66cRNWU4RElK_H5aEFGW_rIg=s64",
      "userId": "05999151273014782026"
     },
     "user_tz": 300
    },
    "id": "u-y8HP1SvVCO",
    "outputId": "6d74d31f-22fe-4813-dba0-f38b9d477160"
   },
   "outputs": [
    {
     "name": "stdout",
     "output_type": "stream",
     "text": [
      "accuracy_score:  0.6006910605120935\n",
      "precision_score:  0.48699451789921494\n",
      "recall_score:  0.4091599864118782\n",
      "f1_score:  0.4088429170619107\n"
     ]
    }
   ],
   "source": [
    "pred = gnb.predict(X_test)\n",
    "print_clf_scores(y_test_clf, pred)"
   ]
  },
  {
   "cell_type": "markdown",
   "metadata": {
    "id": "2jqonf8QvVCO"
   },
   "source": [
    "### Multinomial Naive Bayes"
   ]
  },
  {
   "cell_type": "code",
   "execution_count": 18,
   "metadata": {
    "colab": {
     "base_uri": "https://localhost:8080/"
    },
    "executionInfo": {
     "elapsed": 1822,
     "status": "ok",
     "timestamp": 1643409443614,
     "user": {
      "displayName": "Jason Tan",
      "photoUrl": "https://lh3.googleusercontent.com/a-/AOh14GiI78rGWPpUz8y61T66cRNWU4RElK_H5aEFGW_rIg=s64",
      "userId": "05999151273014782026"
     },
     "user_tz": 300
    },
    "id": "rbKVuncXvVCP",
    "outputId": "2bf6f262-9dd5-4539-c549-b1d4b1f2f041"
   },
   "outputs": [
    {
     "name": "stderr",
     "output_type": "stream",
     "text": [
      "/Users/jasontan/opt/anaconda3/lib/python3.8/site-packages/sklearn/model_selection/_search.py:922: UserWarning: One or more of the test scores are non-finite: [nan nan nan nan nan nan nan nan nan nan]\n",
      "  warnings.warn(\n"
     ]
    },
    {
     "data": {
      "text/plain": [
       "MultinomialNB(alpha=3.777714743934013)"
      ]
     },
     "execution_count": 18,
     "metadata": {},
     "output_type": "execute_result"
    }
   ],
   "source": [
    "from sklearn.naive_bayes import MultinomialNB\n",
    "mnb=MultinomialNB()\n",
    "parameters={'alpha':uniform(loc=0, scale=100)}\n",
    "clf=RandomizedSearchCV(mnb, parameters, scoring=f1_score, n_jobs=-1, cv=5)\n",
    "clf.fit(X_train, y_train_clf)\n",
    "clf.best_estimator_"
   ]
  },
  {
   "cell_type": "code",
   "execution_count": 19,
   "metadata": {
    "colab": {
     "base_uri": "https://localhost:8080/"
    },
    "executionInfo": {
     "elapsed": 17,
     "status": "ok",
     "timestamp": 1643409443616,
     "user": {
      "displayName": "Jason Tan",
      "photoUrl": "https://lh3.googleusercontent.com/a-/AOh14GiI78rGWPpUz8y61T66cRNWU4RElK_H5aEFGW_rIg=s64",
      "userId": "05999151273014782026"
     },
     "user_tz": 300
    },
    "id": "rHgF-0HyvVCP",
    "outputId": "d17866f0-c432-40a6-e0eb-5af23f7e23ff"
   },
   "outputs": [
    {
     "name": "stdout",
     "output_type": "stream",
     "text": [
      "accuracy_score:  0.6035261805617081\n",
      "precision_score:  0.20117539352056937\n",
      "recall_score:  0.3333333333333333\n",
      "f1_score:  0.2509162568834374\n"
     ]
    },
    {
     "name": "stderr",
     "output_type": "stream",
     "text": [
      "/Users/jasontan/opt/anaconda3/lib/python3.8/site-packages/sklearn/metrics/_classification.py:1248: UndefinedMetricWarning: Precision is ill-defined and being set to 0.0 in labels with no predicted samples. Use `zero_division` parameter to control this behavior.\n",
      "  _warn_prf(average, modifier, msg_start, len(result))\n"
     ]
    }
   ],
   "source": [
    "pred = clf.predict(X_test)\n",
    "print_clf_scores(y_test_clf, pred)"
   ]
  },
  {
   "cell_type": "markdown",
   "metadata": {
    "id": "WMKTWmKCvVCQ"
   },
   "source": [
    "### K-nearest Neighbors"
   ]
  },
  {
   "cell_type": "code",
   "execution_count": 20,
   "metadata": {
    "colab": {
     "base_uri": "https://localhost:8080/"
    },
    "executionInfo": {
     "elapsed": 3821,
     "status": "ok",
     "timestamp": 1643409447431,
     "user": {
      "displayName": "Jason Tan",
      "photoUrl": "https://lh3.googleusercontent.com/a-/AOh14GiI78rGWPpUz8y61T66cRNWU4RElK_H5aEFGW_rIg=s64",
      "userId": "05999151273014782026"
     },
     "user_tz": 300
    },
    "id": "14n42esgvVCQ",
    "outputId": "8a90ae8d-ac62-4ea5-f5d2-70f4a3215fc5"
   },
   "outputs": [
    {
     "name": "stderr",
     "output_type": "stream",
     "text": [
      "/Users/jasontan/opt/anaconda3/lib/python3.8/site-packages/sklearn/model_selection/_search.py:922: UserWarning: One or more of the test scores are non-finite: [nan nan nan]\n",
      "  warnings.warn(\n"
     ]
    },
    {
     "data": {
      "text/plain": [
       "KNeighborsClassifier(n_jobs=-1, n_neighbors=1)"
      ]
     },
     "execution_count": 20,
     "metadata": {},
     "output_type": "execute_result"
    }
   ],
   "source": [
    "from sklearn.neighbors import KNeighborsClassifier\n",
    "knn=KNeighborsClassifier(n_jobs=-1)\n",
    "parameters={'n_neighbors':[1,3,5]}\n",
    "clf=GridSearchCV(knn, parameters, scoring=f1_score, n_jobs=-1, cv=5)\n",
    "clf.fit(X_train, y_train_clf)\n",
    "clf.best_estimator_"
   ]
  },
  {
   "cell_type": "code",
   "execution_count": 21,
   "metadata": {
    "colab": {
     "base_uri": "https://localhost:8080/"
    },
    "executionInfo": {
     "elapsed": 6327,
     "status": "ok",
     "timestamp": 1643409453752,
     "user": {
      "displayName": "Jason Tan",
      "photoUrl": "https://lh3.googleusercontent.com/a-/AOh14GiI78rGWPpUz8y61T66cRNWU4RElK_H5aEFGW_rIg=s64",
      "userId": "05999151273014782026"
     },
     "user_tz": 300
    },
    "id": "r8Kck1O7vVCR",
    "outputId": "0c78fb48-53de-4211-bc39-9038d41ac01c"
   },
   "outputs": [
    {
     "name": "stdout",
     "output_type": "stream",
     "text": [
      "accuracy_score:  0.5759723575795163\n",
      "precision_score:  0.5033886592247168\n",
      "recall_score:  0.49589987827552395\n",
      "f1_score:  0.4993101132147429\n"
     ]
    }
   ],
   "source": [
    "pred = clf.predict(X_test)\n",
    "print_clf_scores(y_test_clf, pred)"
   ]
  },
  {
   "cell_type": "markdown",
   "metadata": {
    "id": "CCuTX1jTvVCR"
   },
   "source": [
    "### Quadratic Discriminant Analysis"
   ]
  },
  {
   "cell_type": "code",
   "execution_count": 22,
   "metadata": {
    "colab": {
     "base_uri": "https://localhost:8080/"
    },
    "executionInfo": {
     "elapsed": 279,
     "status": "ok",
     "timestamp": 1643409454025,
     "user": {
      "displayName": "Jason Tan",
      "photoUrl": "https://lh3.googleusercontent.com/a-/AOh14GiI78rGWPpUz8y61T66cRNWU4RElK_H5aEFGW_rIg=s64",
      "userId": "05999151273014782026"
     },
     "user_tz": 300
    },
    "id": "tY3pSoi-vVCS",
    "outputId": "f6161225-a3e6-43d3-c271-ecb759ae602f"
   },
   "outputs": [
    {
     "data": {
      "text/plain": [
       "QuadraticDiscriminantAnalysis()"
      ]
     },
     "execution_count": 22,
     "metadata": {},
     "output_type": "execute_result"
    }
   ],
   "source": [
    "from sklearn.discriminant_analysis import QuadraticDiscriminantAnalysis\n",
    "qda=QuadraticDiscriminantAnalysis()\n",
    "qda.fit(X_train, y_train_clf)"
   ]
  },
  {
   "cell_type": "code",
   "execution_count": 23,
   "metadata": {
    "colab": {
     "base_uri": "https://localhost:8080/"
    },
    "executionInfo": {
     "elapsed": 13,
     "status": "ok",
     "timestamp": 1643409454026,
     "user": {
      "displayName": "Jason Tan",
      "photoUrl": "https://lh3.googleusercontent.com/a-/AOh14GiI78rGWPpUz8y61T66cRNWU4RElK_H5aEFGW_rIg=s64",
      "userId": "05999151273014782026"
     },
     "user_tz": 300
    },
    "id": "fj8BX78KvVCT",
    "outputId": "5666e189-e9ba-48f1-974e-b6f22119271b"
   },
   "outputs": [
    {
     "name": "stdout",
     "output_type": "stream",
     "text": [
      "accuracy_score:  0.6067156906175246\n",
      "precision_score:  0.5085584201106842\n",
      "recall_score:  0.4140590747283006\n",
      "f1_score:  0.41577689216477515\n"
     ]
    }
   ],
   "source": [
    "pred = qda.predict(X_test)\n",
    "print_clf_scores(y_test_clf, pred)"
   ]
  },
  {
   "cell_type": "markdown",
   "metadata": {
    "id": "q97Eisy6vVCU"
   },
   "source": [
    "### Decision Tree"
   ]
  },
  {
   "cell_type": "code",
   "execution_count": 24,
   "metadata": {
    "colab": {
     "base_uri": "https://localhost:8080/"
    },
    "executionInfo": {
     "elapsed": 50988,
     "status": "ok",
     "timestamp": 1643409505009,
     "user": {
      "displayName": "Jason Tan",
      "photoUrl": "https://lh3.googleusercontent.com/a-/AOh14GiI78rGWPpUz8y61T66cRNWU4RElK_H5aEFGW_rIg=s64",
      "userId": "05999151273014782026"
     },
     "user_tz": 300
    },
    "id": "SXyBdH7_vVCV",
    "outputId": "d74b9f4e-c380-427f-a798-9c8b8366f137"
   },
   "outputs": [
    {
     "name": "stderr",
     "output_type": "stream",
     "text": [
      "/Users/jasontan/opt/anaconda3/lib/python3.8/site-packages/sklearn/model_selection/_search.py:922: UserWarning: One or more of the test scores are non-finite: [nan nan nan nan nan nan nan nan nan]\n",
      "  warnings.warn(\n"
     ]
    },
    {
     "data": {
      "text/plain": [
       "DecisionTreeClassifier(max_depth=10, min_samples_leaf=10, random_state=0)"
      ]
     },
     "execution_count": 24,
     "metadata": {},
     "output_type": "execute_result"
    }
   ],
   "source": [
    "from sklearn.tree import DecisionTreeClassifier\n",
    "dt=DecisionTreeClassifier(random_state=0)\n",
    "parameters={'max_depth':[10,100,None], 'min_samples_leaf':[10,100, 1000]}\n",
    "clf=GridSearchCV(dt, parameters, scoring=f1_score, n_jobs=-1, cv=5)\n",
    "clf.fit(X_train, y_train_clf)\n",
    "clf.best_estimator_"
   ]
  },
  {
   "cell_type": "code",
   "execution_count": 25,
   "metadata": {
    "colab": {
     "base_uri": "https://localhost:8080/"
    },
    "executionInfo": {
     "elapsed": 17,
     "status": "ok",
     "timestamp": 1643409505011,
     "user": {
      "displayName": "Jason Tan",
      "photoUrl": "https://lh3.googleusercontent.com/a-/AOh14GiI78rGWPpUz8y61T66cRNWU4RElK_H5aEFGW_rIg=s64",
      "userId": "05999151273014782026"
     },
     "user_tz": 300
    },
    "id": "sdqjjP1QvVCW",
    "outputId": "e0833256-b3b9-4817-9c2c-e560d972e81d"
   },
   "outputs": [
    {
     "name": "stdout",
     "output_type": "stream",
     "text": [
      "accuracy_score:  0.6277132984849827\n",
      "precision_score:  0.5689725185416546\n",
      "recall_score:  0.45443818113136425\n",
      "f1_score:  0.46898976623369104\n"
     ]
    }
   ],
   "source": [
    "pred = clf.predict(X_test)\n",
    "print_clf_scores(y_test_clf, pred)"
   ]
  },
  {
   "cell_type": "markdown",
   "metadata": {
    "id": "cnRy8PpvvVCZ"
   },
   "source": [
    "### Ada Boost"
   ]
  },
  {
   "cell_type": "code",
   "execution_count": 26,
   "metadata": {
    "colab": {
     "base_uri": "https://localhost:8080/"
    },
    "executionInfo": {
     "elapsed": 520481,
     "status": "ok",
     "timestamp": 1643410025482,
     "user": {
      "displayName": "Jason Tan",
      "photoUrl": "https://lh3.googleusercontent.com/a-/AOh14GiI78rGWPpUz8y61T66cRNWU4RElK_H5aEFGW_rIg=s64",
      "userId": "05999151273014782026"
     },
     "user_tz": 300
    },
    "id": "6udZMmfPvVCZ",
    "outputId": "52e9995d-764c-4deb-883f-3acae841441a"
   },
   "outputs": [
    {
     "name": "stderr",
     "output_type": "stream",
     "text": [
      "/Users/jasontan/opt/anaconda3/lib/python3.8/site-packages/sklearn/model_selection/_search.py:922: UserWarning: One or more of the test scores are non-finite: [nan nan nan nan nan nan nan nan nan nan]\n",
      "  warnings.warn(\n"
     ]
    },
    {
     "data": {
      "text/plain": [
       "AdaBoostClassifier(learning_rate=4.669317477060773, n_estimators=100,\n",
       "                   random_state=0)"
      ]
     },
     "execution_count": 26,
     "metadata": {},
     "output_type": "execute_result"
    }
   ],
   "source": [
    "from sklearn.ensemble import AdaBoostClassifier\n",
    "ada=AdaBoostClassifier(random_state=0, n_estimators=100)\n",
    "parameters={'learning_rate':uniform(loc=0, scale=10)}\n",
    "clf=RandomizedSearchCV(ada, parameters, scoring=f1_score, n_jobs=-1, cv=5)\n",
    "clf.fit(X_train, y_train_clf)\n",
    "clf.best_estimator_"
   ]
  },
  {
   "cell_type": "code",
   "execution_count": 27,
   "metadata": {
    "colab": {
     "base_uri": "https://localhost:8080/"
    },
    "executionInfo": {
     "elapsed": 248,
     "status": "ok",
     "timestamp": 1643410025704,
     "user": {
      "displayName": "Jason Tan",
      "photoUrl": "https://lh3.googleusercontent.com/a-/AOh14GiI78rGWPpUz8y61T66cRNWU4RElK_H5aEFGW_rIg=s64",
      "userId": "05999151273014782026"
     },
     "user_tz": 300
    },
    "id": "T_CYTLC3vVCa",
    "outputId": "a7638fb7-b8d8-4296-be41-99776434b671"
   },
   "outputs": [
    {
     "name": "stdout",
     "output_type": "stream",
     "text": [
      "accuracy_score:  0.11783467706210685\n",
      "precision_score:  0.07661332489058537\n",
      "recall_score:  0.19845258136588528\n",
      "f1_score:  0.10854755319693439\n"
     ]
    },
    {
     "name": "stderr",
     "output_type": "stream",
     "text": [
      "/Users/jasontan/opt/anaconda3/lib/python3.8/site-packages/sklearn/metrics/_classification.py:1248: UndefinedMetricWarning: Precision is ill-defined and being set to 0.0 in labels with no predicted samples. Use `zero_division` parameter to control this behavior.\n",
      "  _warn_prf(average, modifier, msg_start, len(result))\n"
     ]
    }
   ],
   "source": [
    "pred = clf.predict(X_test)\n",
    "print_clf_scores(y_test_clf, pred)"
   ]
  },
  {
   "cell_type": "markdown",
   "metadata": {
    "id": "2nHvMoXBvVCX"
   },
   "source": [
    "### Random Forest (The focus of the report)"
   ]
  },
  {
   "cell_type": "code",
   "execution_count": 28,
   "metadata": {
    "colab": {
     "base_uri": "https://localhost:8080/"
    },
    "executionInfo": {
     "elapsed": 455626,
     "status": "ok",
     "timestamp": 1643410481322,
     "user": {
      "displayName": "Jason Tan",
      "photoUrl": "https://lh3.googleusercontent.com/a-/AOh14GiI78rGWPpUz8y61T66cRNWU4RElK_H5aEFGW_rIg=s64",
      "userId": "05999151273014782026"
     },
     "user_tz": 300
    },
    "id": "h_GZRJ5zvVCY",
    "outputId": "4d040ccd-dd38-4b86-e469-c3c2a4b7e078"
   },
   "outputs": [
    {
     "name": "stderr",
     "output_type": "stream",
     "text": [
      "/Users/jasontan/opt/anaconda3/lib/python3.8/site-packages/sklearn/model_selection/_search.py:922: UserWarning: One or more of the test scores are non-finite: [nan nan nan]\n",
      "  warnings.warn(\n"
     ]
    },
    {
     "data": {
      "text/plain": [
       "RandomForestClassifier(n_jobs=-1, random_state=0)"
      ]
     },
     "execution_count": 28,
     "metadata": {},
     "output_type": "execute_result"
    }
   ],
   "source": [
    "from sklearn.ensemble import RandomForestClassifier\n",
    "rf=RandomForestClassifier(n_jobs=-1, random_state=0, n_estimators=100, max_depth=None)\n",
    "parameters={'min_samples_split':[2,10,100]}\n",
    "clf=GridSearchCV(rf, parameters, scoring=f1_score, n_jobs=-1, cv=5)\n",
    "clf.fit(X_train, y_train_clf)\n",
    "clf.best_estimator_"
   ]
  },
  {
   "cell_type": "code",
   "execution_count": 29,
   "metadata": {
    "colab": {
     "base_uri": "https://localhost:8080/"
    },
    "executionInfo": {
     "elapsed": 382,
     "status": "ok",
     "timestamp": 1643410481684,
     "user": {
      "displayName": "Jason Tan",
      "photoUrl": "https://lh3.googleusercontent.com/a-/AOh14GiI78rGWPpUz8y61T66cRNWU4RElK_H5aEFGW_rIg=s64",
      "userId": "05999151273014782026"
     },
     "user_tz": 300
    },
    "id": "cek1uCJYvVCY",
    "outputId": "dd69775a-f3cf-40df-dc25-f971c6d1279e"
   },
   "outputs": [
    {
     "name": "stdout",
     "output_type": "stream",
     "text": [
      "accuracy_score:  0.6490652963586427\n",
      "precision_score:  0.6202951809452432\n",
      "recall_score:  0.4753257227845984\n",
      "f1_score:  0.49619829140964683\n"
     ]
    }
   ],
   "source": [
    "pred = clf.predict(X_test)\n",
    "print_clf_scores(y_test_clf, pred)"
   ]
  },
  {
   "cell_type": "markdown",
   "metadata": {
    "id": "9mSCmPMlvVCc"
   },
   "source": [
    "### Gradient Boosting Classifier"
   ]
  },
  {
   "cell_type": "code",
   "execution_count": 30,
   "metadata": {
    "executionInfo": {
     "elapsed": 18,
     "status": "ok",
     "timestamp": 1643410481686,
     "user": {
      "displayName": "Jason Tan",
      "photoUrl": "https://lh3.googleusercontent.com/a-/AOh14GiI78rGWPpUz8y61T66cRNWU4RElK_H5aEFGW_rIg=s64",
      "userId": "05999151273014782026"
     },
     "user_tz": 300
    },
    "id": "JKUl1DFsvVCc"
   },
   "outputs": [],
   "source": [
    "# from sklearn.ensemble import GradientBoostingClassifier\n",
    "# gb=GradientBoostingClassifier(random_state=0)\n",
    "# parameters={'max_depth':[10,100], 'min_samples_leaf':[1, 10,100], 'learning_rate':[0.1,1,10]}\n",
    "# clf=GridSearchCV(gb, parameters, scoring=f1_score, n_jobs=-1, cv=5)\n",
    "# clf.fit(X_train, y_train_clf)\n",
    "# clf.best_estimator_"
   ]
  },
  {
   "cell_type": "code",
   "execution_count": 31,
   "metadata": {
    "executionInfo": {
     "elapsed": 16,
     "status": "ok",
     "timestamp": 1643410481687,
     "user": {
      "displayName": "Jason Tan",
      "photoUrl": "https://lh3.googleusercontent.com/a-/AOh14GiI78rGWPpUz8y61T66cRNWU4RElK_H5aEFGW_rIg=s64",
      "userId": "05999151273014782026"
     },
     "user_tz": 300
    },
    "id": "p0zMkkP1vVCd"
   },
   "outputs": [],
   "source": [
    "# pred = clf.predict(X_test)\n",
    "# print_clf_scores(y_test_clf, pred)"
   ]
  },
  {
   "cell_type": "markdown",
   "metadata": {
    "id": "P7tOOWtNvVCd"
   },
   "source": [
    "### Linear SVM"
   ]
  },
  {
   "cell_type": "code",
   "execution_count": 32,
   "metadata": {
    "executionInfo": {
     "elapsed": 15,
     "status": "ok",
     "timestamp": 1643410481688,
     "user": {
      "displayName": "Jason Tan",
      "photoUrl": "https://lh3.googleusercontent.com/a-/AOh14GiI78rGWPpUz8y61T66cRNWU4RElK_H5aEFGW_rIg=s64",
      "userId": "05999151273014782026"
     },
     "user_tz": 300
    },
    "id": "O1iPeTrJvVCe"
   },
   "outputs": [],
   "source": [
    "# from sklearn.svm import SVC\n",
    "# lsvc=SVC(kernel='linear')\n",
    "# parameters={'C':uniform(loc=0, scale=100)}\n",
    "# clf=RandomizedSearchCV(lsvc, parameters, scoring=f1_score, n_jobs=-1, cv=5)\n",
    "# clf.fit(X_train, y_train_clf)\n",
    "# clf.best_estimator_"
   ]
  },
  {
   "cell_type": "code",
   "execution_count": 33,
   "metadata": {
    "executionInfo": {
     "elapsed": 14,
     "status": "ok",
     "timestamp": 1643410481689,
     "user": {
      "displayName": "Jason Tan",
      "photoUrl": "https://lh3.googleusercontent.com/a-/AOh14GiI78rGWPpUz8y61T66cRNWU4RElK_H5aEFGW_rIg=s64",
      "userId": "05999151273014782026"
     },
     "user_tz": 300
    },
    "id": "Buw0SLiuvVCe"
   },
   "outputs": [],
   "source": [
    "# pred = clf.predict(X_test)\n",
    "# print_clf_scores(y_test_clf, pred)"
   ]
  },
  {
   "cell_type": "markdown",
   "metadata": {
    "id": "nZO6dZUwvVCe"
   },
   "source": [
    "### Kernel SVM"
   ]
  },
  {
   "cell_type": "code",
   "execution_count": 34,
   "metadata": {
    "executionInfo": {
     "elapsed": 13,
     "status": "ok",
     "timestamp": 1643410481689,
     "user": {
      "displayName": "Jason Tan",
      "photoUrl": "https://lh3.googleusercontent.com/a-/AOh14GiI78rGWPpUz8y61T66cRNWU4RElK_H5aEFGW_rIg=s64",
      "userId": "05999151273014782026"
     },
     "user_tz": 300
    },
    "id": "2DY5faU6vVCf"
   },
   "outputs": [],
   "source": [
    "# from sklearn.svm import SVC\n",
    "# ksvc=SVC()\n",
    "# parameters={'C':uniform(loc=0, scale=100)}\n",
    "# clf=RandomizedSearchCV(ksvc, parameters, scoring=f1_score, n_jobs=-1, cv=5)\n",
    "# clf.fit(X_train, y_train_clf)\n",
    "# clf.best_estimator_"
   ]
  },
  {
   "cell_type": "code",
   "execution_count": 35,
   "metadata": {
    "executionInfo": {
     "elapsed": 13,
     "status": "ok",
     "timestamp": 1643410481690,
     "user": {
      "displayName": "Jason Tan",
      "photoUrl": "https://lh3.googleusercontent.com/a-/AOh14GiI78rGWPpUz8y61T66cRNWU4RElK_H5aEFGW_rIg=s64",
      "userId": "05999151273014782026"
     },
     "user_tz": 300
    },
    "id": "v92AiUx3vVCf"
   },
   "outputs": [],
   "source": [
    "# pred = clf.predict(X_test)\n",
    "# print_clf_scores(y_test_clf, pred)"
   ]
  },
  {
   "cell_type": "markdown",
   "metadata": {
    "id": "pcuqke07vVCg"
   },
   "source": [
    "### Failure Analysis"
   ]
  },
  {
   "cell_type": "code",
   "execution_count": 36,
   "metadata": {
    "colab": {
     "base_uri": "https://localhost:8080/",
     "height": 687
    },
    "executionInfo": {
     "elapsed": 214,
     "status": "ok",
     "timestamp": 1643410481892,
     "user": {
      "displayName": "Jason Tan",
      "photoUrl": "https://lh3.googleusercontent.com/a-/AOh14GiI78rGWPpUz8y61T66cRNWU4RElK_H5aEFGW_rIg=s64",
      "userId": "05999151273014782026"
     },
     "user_tz": 300
    },
    "id": "krikCgt3vVCg",
    "outputId": "91715281-8f61-4e7e-fd01-c2d06e26f2d4"
   },
   "outputs": [
    {
     "data": {
      "text/html": [
       "<div>\n",
       "<style scoped>\n",
       "    .dataframe tbody tr th:only-of-type {\n",
       "        vertical-align: middle;\n",
       "    }\n",
       "\n",
       "    .dataframe tbody tr th {\n",
       "        vertical-align: top;\n",
       "    }\n",
       "\n",
       "    .dataframe thead th {\n",
       "        text-align: right;\n",
       "    }\n",
       "</style>\n",
       "<table border=\"1\" class=\"dataframe\">\n",
       "  <thead>\n",
       "    <tr style=\"text-align: right;\">\n",
       "      <th></th>\n",
       "      <th>index</th>\n",
       "      <th>Date</th>\n",
       "      <th>Ticker</th>\n",
       "      <th>Name</th>\n",
       "      <th>Sector</th>\n",
       "      <th>Price_Returns_12m</th>\n",
       "      <th>Price_Returns_6m</th>\n",
       "      <th>Price_Returns_3m</th>\n",
       "      <th>Price_Returns_1m</th>\n",
       "      <th>Moving_Avg_Returns_12m</th>\n",
       "      <th>...</th>\n",
       "      <th>Trail1yr_EPSgro</th>\n",
       "      <th>Trail1yr_DPSgro</th>\n",
       "      <th>FUTURE_Returns_MinMax_overall</th>\n",
       "      <th>FUTURE_Returns_quintile_overall</th>\n",
       "      <th>FUTURE_Returns_top_bot_100_overall</th>\n",
       "      <th>FUTURE_Returns_top_bot_100_bySector</th>\n",
       "      <th>FUTURE_Returns_decile_overall</th>\n",
       "      <th>FUTURE_Returns_top_bot_50_overall</th>\n",
       "      <th>FUTURE_Returns_top_bot_50_bySector</th>\n",
       "      <th>predictions</th>\n",
       "    </tr>\n",
       "  </thead>\n",
       "  <tbody>\n",
       "    <tr>\n",
       "      <th>0</th>\n",
       "      <td>3</td>\n",
       "      <td>2001-12-31</td>\n",
       "      <td>1255173D</td>\n",
       "      <td>WACHOVIA CORP</td>\n",
       "      <td>Financials</td>\n",
       "      <td>0.27336</td>\n",
       "      <td>0.45867</td>\n",
       "      <td>0.27743</td>\n",
       "      <td>0.46289</td>\n",
       "      <td>0.61219</td>\n",
       "      <td>...</td>\n",
       "      <td>0.04167</td>\n",
       "      <td>0.12517</td>\n",
       "      <td>0.446876</td>\n",
       "      <td>2.0</td>\n",
       "      <td>2.0</td>\n",
       "      <td>2.0</td>\n",
       "      <td>4.0</td>\n",
       "      <td>5.0</td>\n",
       "      <td>5.0</td>\n",
       "      <td>2.0</td>\n",
       "    </tr>\n",
       "    <tr>\n",
       "      <th>1</th>\n",
       "      <td>6</td>\n",
       "      <td>2001-12-31</td>\n",
       "      <td>NWL</td>\n",
       "      <td>NEWELL BRANDS IN</td>\n",
       "      <td>Consumer Discretionary</td>\n",
       "      <td>0.29594</td>\n",
       "      <td>0.56978</td>\n",
       "      <td>0.34451</td>\n",
       "      <td>0.53384</td>\n",
       "      <td>0.64153</td>\n",
       "      <td>...</td>\n",
       "      <td>0.03512</td>\n",
       "      <td>0.25035</td>\n",
       "      <td>0.296853</td>\n",
       "      <td>0.0</td>\n",
       "      <td>0.0</td>\n",
       "      <td>0.0</td>\n",
       "      <td>0.0</td>\n",
       "      <td>0.0</td>\n",
       "      <td>0.0</td>\n",
       "      <td>2.0</td>\n",
       "    </tr>\n",
       "    <tr>\n",
       "      <th>2</th>\n",
       "      <td>14</td>\n",
       "      <td>2001-12-31</td>\n",
       "      <td>MER</td>\n",
       "      <td>MERRILL LYNCH</td>\n",
       "      <td>Financials</td>\n",
       "      <td>0.17681</td>\n",
       "      <td>0.44503</td>\n",
       "      <td>0.36588</td>\n",
       "      <td>0.49431</td>\n",
       "      <td>0.48467</td>\n",
       "      <td>...</td>\n",
       "      <td>0.03578</td>\n",
       "      <td>0.26481</td>\n",
       "      <td>0.500232</td>\n",
       "      <td>3.0</td>\n",
       "      <td>2.0</td>\n",
       "      <td>4.0</td>\n",
       "      <td>6.0</td>\n",
       "      <td>5.0</td>\n",
       "      <td>5.0</td>\n",
       "      <td>2.0</td>\n",
       "    </tr>\n",
       "    <tr>\n",
       "      <th>3</th>\n",
       "      <td>17</td>\n",
       "      <td>2001-12-31</td>\n",
       "      <td>NI</td>\n",
       "      <td>NISOURCE INC</td>\n",
       "      <td>Utilities</td>\n",
       "      <td>0.17946</td>\n",
       "      <td>0.43339</td>\n",
       "      <td>0.27154</td>\n",
       "      <td>0.56665</td>\n",
       "      <td>0.47648</td>\n",
       "      <td>...</td>\n",
       "      <td>0.03506</td>\n",
       "      <td>0.26889</td>\n",
       "      <td>0.243510</td>\n",
       "      <td>0.0</td>\n",
       "      <td>0.0</td>\n",
       "      <td>0.0</td>\n",
       "      <td>0.0</td>\n",
       "      <td>0.0</td>\n",
       "      <td>0.0</td>\n",
       "      <td>2.0</td>\n",
       "    </tr>\n",
       "    <tr>\n",
       "      <th>4</th>\n",
       "      <td>23</td>\n",
       "      <td>2001-12-31</td>\n",
       "      <td>WFC</td>\n",
       "      <td>WELLS FARGO &amp; CO</td>\n",
       "      <td>Financials</td>\n",
       "      <td>0.18283</td>\n",
       "      <td>0.47819</td>\n",
       "      <td>0.26556</td>\n",
       "      <td>0.46513</td>\n",
       "      <td>0.47379</td>\n",
       "      <td>...</td>\n",
       "      <td>0.03626</td>\n",
       "      <td>0.27815</td>\n",
       "      <td>0.446366</td>\n",
       "      <td>2.0</td>\n",
       "      <td>2.0</td>\n",
       "      <td>2.0</td>\n",
       "      <td>4.0</td>\n",
       "      <td>5.0</td>\n",
       "      <td>5.0</td>\n",
       "      <td>4.0</td>\n",
       "    </tr>\n",
       "    <tr>\n",
       "      <th>...</th>\n",
       "      <td>...</td>\n",
       "      <td>...</td>\n",
       "      <td>...</td>\n",
       "      <td>...</td>\n",
       "      <td>...</td>\n",
       "      <td>...</td>\n",
       "      <td>...</td>\n",
       "      <td>...</td>\n",
       "      <td>...</td>\n",
       "      <td>...</td>\n",
       "      <td>...</td>\n",
       "      <td>...</td>\n",
       "      <td>...</td>\n",
       "      <td>...</td>\n",
       "      <td>...</td>\n",
       "      <td>...</td>\n",
       "      <td>...</td>\n",
       "      <td>...</td>\n",
       "      <td>...</td>\n",
       "      <td>...</td>\n",
       "      <td>...</td>\n",
       "    </tr>\n",
       "    <tr>\n",
       "      <th>11282</th>\n",
       "      <td>113275</td>\n",
       "      <td>2021-06-30</td>\n",
       "      <td>ANSS</td>\n",
       "      <td>ANSYS INC</td>\n",
       "      <td>Information Technology</td>\n",
       "      <td>0.11989</td>\n",
       "      <td>0.14447</td>\n",
       "      <td>0.39872</td>\n",
       "      <td>0.40290</td>\n",
       "      <td>0.24187</td>\n",
       "      <td>...</td>\n",
       "      <td>0.21205</td>\n",
       "      <td>0.00999</td>\n",
       "      <td>0.211674</td>\n",
       "      <td>0.0</td>\n",
       "      <td>0.0</td>\n",
       "      <td>0.0</td>\n",
       "      <td>0.0</td>\n",
       "      <td>0.0</td>\n",
       "      <td>0.0</td>\n",
       "      <td>2.0</td>\n",
       "    </tr>\n",
       "    <tr>\n",
       "      <th>11283</th>\n",
       "      <td>113277</td>\n",
       "      <td>2021-06-30</td>\n",
       "      <td>SEE</td>\n",
       "      <td>SEALED AIR CORP</td>\n",
       "      <td>Materials</td>\n",
       "      <td>0.27505</td>\n",
       "      <td>0.41582</td>\n",
       "      <td>0.74615</td>\n",
       "      <td>0.44452</td>\n",
       "      <td>0.44990</td>\n",
       "      <td>...</td>\n",
       "      <td>0.21032</td>\n",
       "      <td>0.01062</td>\n",
       "      <td>0.714268</td>\n",
       "      <td>4.0</td>\n",
       "      <td>4.0</td>\n",
       "      <td>4.0</td>\n",
       "      <td>9.0</td>\n",
       "      <td>10.0</td>\n",
       "      <td>10.0</td>\n",
       "      <td>2.0</td>\n",
       "    </tr>\n",
       "    <tr>\n",
       "      <th>11284</th>\n",
       "      <td>113299</td>\n",
       "      <td>2021-06-30</td>\n",
       "      <td>NVR</td>\n",
       "      <td>NVR INC</td>\n",
       "      <td>Consumer Discretionary</td>\n",
       "      <td>0.20136</td>\n",
       "      <td>0.35034</td>\n",
       "      <td>0.44110</td>\n",
       "      <td>0.38198</td>\n",
       "      <td>0.36009</td>\n",
       "      <td>...</td>\n",
       "      <td>0.21691</td>\n",
       "      <td>0.00999</td>\n",
       "      <td>0.321864</td>\n",
       "      <td>0.0</td>\n",
       "      <td>0.0</td>\n",
       "      <td>2.0</td>\n",
       "      <td>1.0</td>\n",
       "      <td>5.0</td>\n",
       "      <td>5.0</td>\n",
       "      <td>2.0</td>\n",
       "    </tr>\n",
       "    <tr>\n",
       "      <th>11285</th>\n",
       "      <td>113302</td>\n",
       "      <td>2021-06-30</td>\n",
       "      <td>CTXS</td>\n",
       "      <td>CITRIX SYSTEMS</td>\n",
       "      <td>Information Technology</td>\n",
       "      <td>0.02595</td>\n",
       "      <td>0.10771</td>\n",
       "      <td>0.16668</td>\n",
       "      <td>0.39462</td>\n",
       "      <td>0.06349</td>\n",
       "      <td>...</td>\n",
       "      <td>0.20130</td>\n",
       "      <td>0.01028</td>\n",
       "      <td>0.220599</td>\n",
       "      <td>0.0</td>\n",
       "      <td>0.0</td>\n",
       "      <td>0.0</td>\n",
       "      <td>0.0</td>\n",
       "      <td>0.0</td>\n",
       "      <td>0.0</td>\n",
       "      <td>2.0</td>\n",
       "    </tr>\n",
       "    <tr>\n",
       "      <th>11286</th>\n",
       "      <td>113306</td>\n",
       "      <td>2021-06-30</td>\n",
       "      <td>IRM</td>\n",
       "      <td>IRON MOUNTAIN</td>\n",
       "      <td>Real Estate</td>\n",
       "      <td>0.25377</td>\n",
       "      <td>0.55255</td>\n",
       "      <td>0.57122</td>\n",
       "      <td>0.30936</td>\n",
       "      <td>0.42509</td>\n",
       "      <td>...</td>\n",
       "      <td>0.20472</td>\n",
       "      <td>0.01002</td>\n",
       "      <td>0.568538</td>\n",
       "      <td>4.0</td>\n",
       "      <td>4.0</td>\n",
       "      <td>4.0</td>\n",
       "      <td>9.0</td>\n",
       "      <td>10.0</td>\n",
       "      <td>10.0</td>\n",
       "      <td>2.0</td>\n",
       "    </tr>\n",
       "  </tbody>\n",
       "</table>\n",
       "<p>11287 rows × 31 columns</p>\n",
       "</div>"
      ],
      "text/plain": [
       "        index       Date    Ticker              Name                  Sector  \\\n",
       "0           3 2001-12-31  1255173D     WACHOVIA CORP              Financials   \n",
       "1           6 2001-12-31       NWL  NEWELL BRANDS IN  Consumer Discretionary   \n",
       "2          14 2001-12-31       MER     MERRILL LYNCH              Financials   \n",
       "3          17 2001-12-31        NI      NISOURCE INC               Utilities   \n",
       "4          23 2001-12-31       WFC  WELLS FARGO & CO              Financials   \n",
       "...       ...        ...       ...               ...                     ...   \n",
       "11282  113275 2021-06-30      ANSS         ANSYS INC  Information Technology   \n",
       "11283  113277 2021-06-30       SEE   SEALED AIR CORP               Materials   \n",
       "11284  113299 2021-06-30       NVR           NVR INC  Consumer Discretionary   \n",
       "11285  113302 2021-06-30      CTXS    CITRIX SYSTEMS  Information Technology   \n",
       "11286  113306 2021-06-30       IRM     IRON MOUNTAIN             Real Estate   \n",
       "\n",
       "       Price_Returns_12m  Price_Returns_6m  Price_Returns_3m  \\\n",
       "0                0.27336           0.45867           0.27743   \n",
       "1                0.29594           0.56978           0.34451   \n",
       "2                0.17681           0.44503           0.36588   \n",
       "3                0.17946           0.43339           0.27154   \n",
       "4                0.18283           0.47819           0.26556   \n",
       "...                  ...               ...               ...   \n",
       "11282            0.11989           0.14447           0.39872   \n",
       "11283            0.27505           0.41582           0.74615   \n",
       "11284            0.20136           0.35034           0.44110   \n",
       "11285            0.02595           0.10771           0.16668   \n",
       "11286            0.25377           0.55255           0.57122   \n",
       "\n",
       "       Price_Returns_1m  Moving_Avg_Returns_12m  ...  Trail1yr_EPSgro  \\\n",
       "0               0.46289                 0.61219  ...          0.04167   \n",
       "1               0.53384                 0.64153  ...          0.03512   \n",
       "2               0.49431                 0.48467  ...          0.03578   \n",
       "3               0.56665                 0.47648  ...          0.03506   \n",
       "4               0.46513                 0.47379  ...          0.03626   \n",
       "...                 ...                     ...  ...              ...   \n",
       "11282           0.40290                 0.24187  ...          0.21205   \n",
       "11283           0.44452                 0.44990  ...          0.21032   \n",
       "11284           0.38198                 0.36009  ...          0.21691   \n",
       "11285           0.39462                 0.06349  ...          0.20130   \n",
       "11286           0.30936                 0.42509  ...          0.20472   \n",
       "\n",
       "       Trail1yr_DPSgro  FUTURE_Returns_MinMax_overall  \\\n",
       "0              0.12517                       0.446876   \n",
       "1              0.25035                       0.296853   \n",
       "2              0.26481                       0.500232   \n",
       "3              0.26889                       0.243510   \n",
       "4              0.27815                       0.446366   \n",
       "...                ...                            ...   \n",
       "11282          0.00999                       0.211674   \n",
       "11283          0.01062                       0.714268   \n",
       "11284          0.00999                       0.321864   \n",
       "11285          0.01028                       0.220599   \n",
       "11286          0.01002                       0.568538   \n",
       "\n",
       "       FUTURE_Returns_quintile_overall  FUTURE_Returns_top_bot_100_overall  \\\n",
       "0                                  2.0                                 2.0   \n",
       "1                                  0.0                                 0.0   \n",
       "2                                  3.0                                 2.0   \n",
       "3                                  0.0                                 0.0   \n",
       "4                                  2.0                                 2.0   \n",
       "...                                ...                                 ...   \n",
       "11282                              0.0                                 0.0   \n",
       "11283                              4.0                                 4.0   \n",
       "11284                              0.0                                 0.0   \n",
       "11285                              0.0                                 0.0   \n",
       "11286                              4.0                                 4.0   \n",
       "\n",
       "       FUTURE_Returns_top_bot_100_bySector  FUTURE_Returns_decile_overall  \\\n",
       "0                                      2.0                            4.0   \n",
       "1                                      0.0                            0.0   \n",
       "2                                      4.0                            6.0   \n",
       "3                                      0.0                            0.0   \n",
       "4                                      2.0                            4.0   \n",
       "...                                    ...                            ...   \n",
       "11282                                  0.0                            0.0   \n",
       "11283                                  4.0                            9.0   \n",
       "11284                                  2.0                            1.0   \n",
       "11285                                  0.0                            0.0   \n",
       "11286                                  4.0                            9.0   \n",
       "\n",
       "       FUTURE_Returns_top_bot_50_overall  FUTURE_Returns_top_bot_50_bySector  \\\n",
       "0                                    5.0                                 5.0   \n",
       "1                                    0.0                                 0.0   \n",
       "2                                    5.0                                 5.0   \n",
       "3                                    0.0                                 0.0   \n",
       "4                                    5.0                                 5.0   \n",
       "...                                  ...                                 ...   \n",
       "11282                                0.0                                 0.0   \n",
       "11283                               10.0                                10.0   \n",
       "11284                                5.0                                 5.0   \n",
       "11285                                0.0                                 0.0   \n",
       "11286                               10.0                                10.0   \n",
       "\n",
       "       predictions  \n",
       "0              2.0  \n",
       "1              2.0  \n",
       "2              2.0  \n",
       "3              2.0  \n",
       "4              4.0  \n",
       "...            ...  \n",
       "11282          2.0  \n",
       "11283          2.0  \n",
       "11284          2.0  \n",
       "11285          2.0  \n",
       "11286          2.0  \n",
       "\n",
       "[11287 rows x 31 columns]"
      ]
     },
     "execution_count": 36,
     "metadata": {},
     "output_type": "execute_result"
    }
   ],
   "source": [
    "# look at the features of the test set\n",
    "m=combined_df.reset_index().merge(X_test.reset_index()['index'], how='inner', left_on=['index'], right_on=['index'])\n",
    "m['predictions']=pred\n",
    "m"
   ]
  },
  {
   "cell_type": "code",
   "execution_count": 37,
   "metadata": {
    "colab": {
     "base_uri": "https://localhost:8080/",
     "height": 419
    },
    "executionInfo": {
     "elapsed": 13,
     "status": "ok",
     "timestamp": 1643410481893,
     "user": {
      "displayName": "Jason Tan",
      "photoUrl": "https://lh3.googleusercontent.com/a-/AOh14GiI78rGWPpUz8y61T66cRNWU4RElK_H5aEFGW_rIg=s64",
      "userId": "05999151273014782026"
     },
     "user_tz": 300
    },
    "id": "qk-cLUxgvVCh",
    "outputId": "d764c2a3-b8fb-409f-c2d1-59c3d5395e7a"
   },
   "outputs": [
    {
     "data": {
      "text/html": [
       "<div>\n",
       "<style scoped>\n",
       "    .dataframe tbody tr th:only-of-type {\n",
       "        vertical-align: middle;\n",
       "    }\n",
       "\n",
       "    .dataframe tbody tr th {\n",
       "        vertical-align: top;\n",
       "    }\n",
       "\n",
       "    .dataframe thead th {\n",
       "        text-align: right;\n",
       "    }\n",
       "</style>\n",
       "<table border=\"1\" class=\"dataframe\">\n",
       "  <thead>\n",
       "    <tr style=\"text-align: right;\">\n",
       "      <th></th>\n",
       "      <th>Date</th>\n",
       "      <th>Ticker</th>\n",
       "      <th>Name</th>\n",
       "      <th>Sector</th>\n",
       "      <th>FUTURE_Returns_top_bot_100_overall</th>\n",
       "      <th>predictions</th>\n",
       "      <th>diff</th>\n",
       "    </tr>\n",
       "  </thead>\n",
       "  <tbody>\n",
       "    <tr>\n",
       "      <th>1</th>\n",
       "      <td>2001-12-31</td>\n",
       "      <td>NWL</td>\n",
       "      <td>NEWELL BRANDS IN</td>\n",
       "      <td>Consumer Discretionary</td>\n",
       "      <td>0.0</td>\n",
       "      <td>2.0</td>\n",
       "      <td>-2.0</td>\n",
       "    </tr>\n",
       "    <tr>\n",
       "      <th>3</th>\n",
       "      <td>2001-12-31</td>\n",
       "      <td>NI</td>\n",
       "      <td>NISOURCE INC</td>\n",
       "      <td>Utilities</td>\n",
       "      <td>0.0</td>\n",
       "      <td>2.0</td>\n",
       "      <td>-2.0</td>\n",
       "    </tr>\n",
       "    <tr>\n",
       "      <th>4</th>\n",
       "      <td>2001-12-31</td>\n",
       "      <td>WFC</td>\n",
       "      <td>WELLS FARGO &amp; CO</td>\n",
       "      <td>Financials</td>\n",
       "      <td>2.0</td>\n",
       "      <td>4.0</td>\n",
       "      <td>-2.0</td>\n",
       "    </tr>\n",
       "    <tr>\n",
       "      <th>5</th>\n",
       "      <td>2001-12-31</td>\n",
       "      <td>NUE</td>\n",
       "      <td>NUCOR CORP</td>\n",
       "      <td>Materials</td>\n",
       "      <td>4.0</td>\n",
       "      <td>2.0</td>\n",
       "      <td>2.0</td>\n",
       "    </tr>\n",
       "    <tr>\n",
       "      <th>7</th>\n",
       "      <td>2001-12-31</td>\n",
       "      <td>IPG</td>\n",
       "      <td>INTERPUBLIC GRP</td>\n",
       "      <td>Communication Services</td>\n",
       "      <td>4.0</td>\n",
       "      <td>2.0</td>\n",
       "      <td>2.0</td>\n",
       "    </tr>\n",
       "    <tr>\n",
       "      <th>...</th>\n",
       "      <td>...</td>\n",
       "      <td>...</td>\n",
       "      <td>...</td>\n",
       "      <td>...</td>\n",
       "      <td>...</td>\n",
       "      <td>...</td>\n",
       "      <td>...</td>\n",
       "    </tr>\n",
       "    <tr>\n",
       "      <th>11282</th>\n",
       "      <td>2021-06-30</td>\n",
       "      <td>ANSS</td>\n",
       "      <td>ANSYS INC</td>\n",
       "      <td>Information Technology</td>\n",
       "      <td>0.0</td>\n",
       "      <td>2.0</td>\n",
       "      <td>-2.0</td>\n",
       "    </tr>\n",
       "    <tr>\n",
       "      <th>11283</th>\n",
       "      <td>2021-06-30</td>\n",
       "      <td>SEE</td>\n",
       "      <td>SEALED AIR CORP</td>\n",
       "      <td>Materials</td>\n",
       "      <td>4.0</td>\n",
       "      <td>2.0</td>\n",
       "      <td>2.0</td>\n",
       "    </tr>\n",
       "    <tr>\n",
       "      <th>11284</th>\n",
       "      <td>2021-06-30</td>\n",
       "      <td>NVR</td>\n",
       "      <td>NVR INC</td>\n",
       "      <td>Consumer Discretionary</td>\n",
       "      <td>0.0</td>\n",
       "      <td>2.0</td>\n",
       "      <td>-2.0</td>\n",
       "    </tr>\n",
       "    <tr>\n",
       "      <th>11285</th>\n",
       "      <td>2021-06-30</td>\n",
       "      <td>CTXS</td>\n",
       "      <td>CITRIX SYSTEMS</td>\n",
       "      <td>Information Technology</td>\n",
       "      <td>0.0</td>\n",
       "      <td>2.0</td>\n",
       "      <td>-2.0</td>\n",
       "    </tr>\n",
       "    <tr>\n",
       "      <th>11286</th>\n",
       "      <td>2021-06-30</td>\n",
       "      <td>IRM</td>\n",
       "      <td>IRON MOUNTAIN</td>\n",
       "      <td>Real Estate</td>\n",
       "      <td>4.0</td>\n",
       "      <td>2.0</td>\n",
       "      <td>2.0</td>\n",
       "    </tr>\n",
       "  </tbody>\n",
       "</table>\n",
       "<p>5229 rows × 7 columns</p>\n",
       "</div>"
      ],
      "text/plain": [
       "            Date Ticker              Name                  Sector  \\\n",
       "1     2001-12-31    NWL  NEWELL BRANDS IN  Consumer Discretionary   \n",
       "3     2001-12-31     NI      NISOURCE INC               Utilities   \n",
       "4     2001-12-31    WFC  WELLS FARGO & CO              Financials   \n",
       "5     2001-12-31    NUE        NUCOR CORP               Materials   \n",
       "7     2001-12-31    IPG   INTERPUBLIC GRP  Communication Services   \n",
       "...          ...    ...               ...                     ...   \n",
       "11282 2021-06-30   ANSS         ANSYS INC  Information Technology   \n",
       "11283 2021-06-30    SEE   SEALED AIR CORP               Materials   \n",
       "11284 2021-06-30    NVR           NVR INC  Consumer Discretionary   \n",
       "11285 2021-06-30   CTXS    CITRIX SYSTEMS  Information Technology   \n",
       "11286 2021-06-30    IRM     IRON MOUNTAIN             Real Estate   \n",
       "\n",
       "       FUTURE_Returns_top_bot_100_overall  predictions  diff  \n",
       "1                                     0.0          2.0  -2.0  \n",
       "3                                     0.0          2.0  -2.0  \n",
       "4                                     2.0          4.0  -2.0  \n",
       "5                                     4.0          2.0   2.0  \n",
       "7                                     4.0          2.0   2.0  \n",
       "...                                   ...          ...   ...  \n",
       "11282                                 0.0          2.0  -2.0  \n",
       "11283                                 4.0          2.0   2.0  \n",
       "11284                                 0.0          2.0  -2.0  \n",
       "11285                                 0.0          2.0  -2.0  \n",
       "11286                                 4.0          2.0   2.0  \n",
       "\n",
       "[5229 rows x 7 columns]"
      ]
     },
     "execution_count": 37,
     "metadata": {},
     "output_type": "execute_result"
    }
   ],
   "source": [
    "# get the rows with differences in pred and test\n",
    "d=m.loc[:,['Date','Ticker','Name','Sector','FUTURE_Returns_top_bot_100_overall','predictions']]\n",
    "d['diff']=d['FUTURE_Returns_top_bot_100_overall']-d['predictions']\n",
    "diff=d[d['FUTURE_Returns_top_bot_100_overall']!=d['predictions']]\n",
    "diff"
   ]
  },
  {
   "cell_type": "code",
   "execution_count": 38,
   "metadata": {
    "colab": {
     "base_uri": "https://localhost:8080/"
    },
    "executionInfo": {
     "elapsed": 439,
     "status": "ok",
     "timestamp": 1643410482322,
     "user": {
      "displayName": "Jason Tan",
      "photoUrl": "https://lh3.googleusercontent.com/a-/AOh14GiI78rGWPpUz8y61T66cRNWU4RElK_H5aEFGW_rIg=s64",
      "userId": "05999151273014782026"
     },
     "user_tz": 300
    },
    "id": "ObUomo9yvVCh",
    "outputId": "bb18e06e-48dd-4d54-d3f5-8b6e9b11dafd"
   },
   "outputs": [
    {
     "data": {
      "text/plain": [
       "[(0.054751034571291705, 'Trail_DivYld'),\n",
       " (0.058758504457387985, 'Trail3yrAvg_DPSgro'),\n",
       " (0.06040297816030769, 'Trail1yr_DPSgro'),\n",
       " (0.062029850720044605, 'Debt_to_MktCap'),\n",
       " (0.06241870059285354, 'Trail_EV_EBITDA'),\n",
       " (0.06454305433373714, 'NetDebt_EBITDA'),\n",
       " (0.06529823998657851, 'PB'),\n",
       " (0.0655869734595242, 'Trail_PE'),\n",
       " (0.0666567378752911, 'Trail3yrAvg_EPSgro'),\n",
       " (0.0673122129987467, 'Trail1yr_EPSgro'),\n",
       " (0.07408171906273353, 'Price_Returns_12m'),\n",
       " (0.08379696080794502, 'Price_Returns_1m'),\n",
       " (0.08984434243977364, 'Volatility'),\n",
       " (0.12451869053378467, 'Price_Returns_3m')]"
      ]
     },
     "execution_count": 38,
     "metadata": {},
     "output_type": "execute_result"
    }
   ],
   "source": [
    "# feature importance\n",
    "sorted([*zip(clf.best_estimator_.feature_importances_, X_features_columns)])"
   ]
  },
  {
   "cell_type": "code",
   "execution_count": 39,
   "metadata": {
    "colab": {
     "base_uri": "https://localhost:8080/"
    },
    "executionInfo": {
     "elapsed": 596,
     "status": "ok",
     "timestamp": 1643413261871,
     "user": {
      "displayName": "Jason Tan",
      "photoUrl": "https://lh3.googleusercontent.com/a-/AOh14GiI78rGWPpUz8y61T66cRNWU4RElK_H5aEFGW_rIg=s64",
      "userId": "05999151273014782026"
     },
     "user_tz": 300
    },
    "id": "SdZTkpfgvVCh",
    "outputId": "1ce45643-d89a-4720-b5ff-547f913779fd"
   },
   "outputs": [
    {
     "name": "stderr",
     "output_type": "stream",
     "text": [
      "<ipython-input-39-a7f8e467122b>:2: FutureWarning: DataFrame.mean and DataFrame.median with numeric_only=None will include datetime64 and datetime64tz columns in a future version.\n",
      "  diff.merge(m, how='inner', left_on=['Date','Ticker'], right_on=['Date','Ticker']).mean()#.sort_values()#.loc[:,['Price_Returns_3m','Volatility','Price_Returns_1m','Ticker']].mean()\n"
     ]
    },
    {
     "data": {
      "text/plain": [
       "FUTURE_Returns_top_bot_100_overall_x        2.016064\n",
       "predictions_x                               1.943775\n",
       "diff                                        0.072289\n",
       "index                                   57018.470071\n",
       "Price_Returns_12m                           0.322131\n",
       "Price_Returns_6m                            0.386613\n",
       "Price_Returns_3m                            0.417892\n",
       "Price_Returns_1m                            0.447664\n",
       "Moving_Avg_Returns_12m                      0.500547\n",
       "Moving_Avg_Returns_6m                       0.478841\n",
       "Moving_Avg_Returns_3m                       0.463716\n",
       "Trail_DivYld                                0.076672\n",
       "PB                                          0.020608\n",
       "Trail_EV_EBITDA                             0.048291\n",
       "Trail_PE                                    0.034799\n",
       "Trail3yrAvg_EPSgro                          0.210191\n",
       "Trail3yrAvg_DPSgro                          0.292726\n",
       "Volatility                                  0.259904\n",
       "Debt_to_MktCap                              0.036263\n",
       "NetDebt_EBITDA                              0.346729\n",
       "Trail1yr_EPSgro                             0.536992\n",
       "Trail1yr_DPSgro                             0.134804\n",
       "FUTURE_Returns_MinMax_overall               0.440134\n",
       "FUTURE_Returns_quintile_overall             2.012813\n",
       "FUTURE_Returns_top_bot_100_overall_y        2.016064\n",
       "FUTURE_Returns_top_bot_100_bySector         2.009945\n",
       "FUTURE_Returns_decile_overall               4.523810\n",
       "FUTURE_Returns_top_bot_50_overall           5.010518\n",
       "FUTURE_Returns_top_bot_50_bySector          4.983745\n",
       "predictions_y                               1.943775\n",
       "dtype: float64"
      ]
     },
     "execution_count": 39,
     "metadata": {},
     "output_type": "execute_result"
    }
   ],
   "source": [
    "# Average feature for rows with differences\n",
    "diff.merge(m, how='inner', left_on=['Date','Ticker'], right_on=['Date','Ticker']).mean()#.sort_values()#.loc[:,['Price_Returns_3m','Volatility','Price_Returns_1m','Ticker']].mean()\n",
    "# Seems like \"cheap stocks\" are hard to predict"
   ]
  },
  {
   "cell_type": "code",
   "execution_count": 40,
   "metadata": {
    "colab": {
     "base_uri": "https://localhost:8080/",
     "height": 350
    },
    "executionInfo": {
     "elapsed": 357,
     "status": "ok",
     "timestamp": 1643413459660,
     "user": {
      "displayName": "Jason Tan",
      "photoUrl": "https://lh3.googleusercontent.com/a-/AOh14GiI78rGWPpUz8y61T66cRNWU4RElK_H5aEFGW_rIg=s64",
      "userId": "05999151273014782026"
     },
     "user_tz": 300
    },
    "id": "nOeZpCS_vVCi",
    "outputId": "59fc01b9-c1f7-4916-991f-bad7649178bf"
   },
   "outputs": [
    {
     "data": {
      "image/png": "[encoded data removed]",
      "text/plain": [
       "<Figure size 720x360 with 1 Axes>"
      ]
     },
     "metadata": {
      "needs_background": "light"
     },
     "output_type": "display_data"
    }
   ],
   "source": [
    "# Accuracy over time \n",
    "def get_accuracy(d):\n",
    "    t=d.FUTURE_Returns_top_bot_100_overall\n",
    "    p=d.predictions\n",
    "    return accuracy_score(t,p)\n",
    "#     return f1_score(t,p, average='macro')\n",
    "\n",
    "d.loc[:,['Date','FUTURE_Returns_top_bot_100_overall','predictions']].groupby(['Date']).apply(get_accuracy).plot(figsize=(10,5))\n",
    "plt.title(\"Accuracy of Predictions over Time\")\n",
    "plt.ylabel(\"Accuracy\")\n",
    "plt.show()"
   ]
  },
  {
   "cell_type": "code",
   "execution_count": 41,
   "metadata": {
    "colab": {
     "base_uri": "https://localhost:8080/",
     "height": 623
    },
    "executionInfo": {
     "elapsed": 1601,
     "status": "ok",
     "timestamp": 1643413461813,
     "user": {
      "displayName": "Jason Tan",
      "photoUrl": "https://lh3.googleusercontent.com/a-/AOh14GiI78rGWPpUz8y61T66cRNWU4RElK_H5aEFGW_rIg=s64",
      "userId": "05999151273014782026"
     },
     "user_tz": 300
    },
    "id": "GEMQOvRZvVCi",
    "outputId": "bc479836-d570-4573-8666-12cbbdf61261"
   },
   "outputs": [
    {
     "data": {
      "text/plain": [
       "<AxesSubplot:xlabel='Date'>"
      ]
     },
     "execution_count": 41,
     "metadata": {},
     "output_type": "execute_result"
    },
    {
     "data": {
      "image/png": "[encoded data removed]",
      "text/plain": [
       "<Figure size 720x720 with 1 Axes>"
      ]
     },
     "metadata": {
      "needs_background": "light"
     },
     "output_type": "display_data"
    }
   ],
   "source": [
    "# Average difference over time\n",
    "diff.groupby(['Date'])['diff'].mean().plot(figsize=(10,10))"
   ]
  },
  {
   "cell_type": "code",
   "execution_count": 42,
   "metadata": {
    "colab": {
     "base_uri": "https://localhost:8080/",
     "height": 350
    },
    "executionInfo": {
     "elapsed": 9,
     "status": "ok",
     "timestamp": 1643413462704,
     "user": {
      "displayName": "Jason Tan",
      "photoUrl": "https://lh3.googleusercontent.com/a-/AOh14GiI78rGWPpUz8y61T66cRNWU4RElK_H5aEFGW_rIg=s64",
      "userId": "05999151273014782026"
     },
     "user_tz": 300
    },
    "id": "UPQH4vpUvVCi",
    "outputId": "00cffa49-d859-4226-c480-d6314d722968"
   },
   "outputs": [
    {
     "data": {
      "image/png": "[encoded data removed]",
      "text/plain": [
       "<Figure size 720x360 with 1 Axes>"
      ]
     },
     "metadata": {
      "needs_background": "light"
     },
     "output_type": "display_data"
    }
   ],
   "source": [
    "# Count of Difference over time\n",
    "diff.groupby(['Date']).count().predictions.plot(figsize=(10,5))\n",
    "# diff[diff['Date']>='2017-12-31'].groupby(['Date']).count().predictions.plot(figsize=(10,10))\n",
    "plt.title(\"Count of Incorrect Predictions Over Time\")\n",
    "plt.ylabel(\"Number of Incorrect Predictions\")\n",
    "plt.show()"
   ]
  },
  {
   "cell_type": "code",
   "execution_count": 43,
   "metadata": {
    "colab": {
     "base_uri": "https://localhost:8080/",
     "height": 735
    },
    "executionInfo": {
     "elapsed": 321,
     "status": "ok",
     "timestamp": 1643413463020,
     "user": {
      "displayName": "Jason Tan",
      "photoUrl": "https://lh3.googleusercontent.com/a-/AOh14GiI78rGWPpUz8y61T66cRNWU4RElK_H5aEFGW_rIg=s64",
      "userId": "05999151273014782026"
     },
     "user_tz": 300
    },
    "id": "S9t-S0grvVCj",
    "outputId": "4727f8e8-5d14-486d-d819-2f11d4e8ed6f"
   },
   "outputs": [
    {
     "data": {
      "image/png": "[encoded data removed]",
      "text/plain": [
       "<Figure size 720x720 with 1 Axes>"
      ]
     },
     "metadata": {
      "needs_background": "light"
     },
     "output_type": "display_data"
    }
   ],
   "source": [
    "# Differences by sectors\n",
    "diff.groupby(['Sector']).count().predictions.plot(figsize=(10,10), kind='bar')\n",
    "plt.title(\"Count of Incorrect Predictions By Sector\")\n",
    "plt.ylabel(\"Number of Incorrect Predictions\")\n",
    "plt.show()"
   ]
  },
  {
   "cell_type": "code",
   "execution_count": null,
   "metadata": {
    "executionInfo": {
     "elapsed": 11,
     "status": "ok",
     "timestamp": 1643413463021,
     "user": {
      "displayName": "Jason Tan",
      "photoUrl": "https://lh3.googleusercontent.com/a-/AOh14GiI78rGWPpUz8y61T66cRNWU4RElK_H5aEFGW_rIg=s64",
      "userId": "05999151273014782026"
     },
     "user_tz": 300
    },
    "id": "PoTHhOY6vVCj"
   },
   "outputs": [],
   "source": []
  }
 ],
 "metadata": {
  "colab": {
   "collapsed_sections": [],
   "name": "Part 03 - Supervised Learning.ipynb",
   "provenance": []
  },
  "kernelspec": {
   "display_name": "Python 3",
   "language": "python",
   "name": "python3"
  },
  "language_info": {
   "codemirror_mode": {
    "name": "ipython",
    "version": 3
   },
   "file_extension": ".py",
   "mimetype": "text/x-python",
   "name": "python",
   "nbconvert_exporter": "python",
   "pygments_lexer": "ipython3",
   "version": "3.8.5"
  }
 },
 "nbformat": 4,
 "nbformat_minor": 1
}
